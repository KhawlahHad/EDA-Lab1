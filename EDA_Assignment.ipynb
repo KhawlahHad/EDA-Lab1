{
 "cells": [
  {
   "cell_type": "markdown",
   "id": "through-estimate",
   "metadata": {},
   "source": [
    "### Choose a dataset to Visulaize\n",
    "* Import needed libraries \n",
    "* Load your own dataset"
   ]
  },
  {
   "cell_type": "code",
   "execution_count": 150,
   "id": "objective-zealand",
   "metadata": {},
   "outputs": [],
   "source": [
    "import pandas as pd \n",
    "import numpy as np \n",
    "import matplotlib.pyplot as plt \n",
    "import seaborn as sns\n",
    "import plotly.express as px\n",
    "\n",
    "%matplotlib inline\n",
    "\n",
    "df = pd.read_csv('House Demolitions in Palestine.csv')\n"
   ]
  },
  {
   "cell_type": "markdown",
   "id": "4315312d",
   "metadata": {},
   "source": [
    "### Descriptive Analysis\n",
    "* Write the codes for summarizing the dataset (head, tail, shape, describe, info, etc).\n",
    "* Write your findings of the summarizations (write at least 10 findings)."
   ]
  },
  {
   "cell_type": "code",
   "execution_count": 151,
   "id": "69d38288",
   "metadata": {},
   "outputs": [
    {
     "data": {
      "text/html": [
       "<div>\n",
       "<style scoped>\n",
       "    .dataframe tbody tr th:only-of-type {\n",
       "        vertical-align: middle;\n",
       "    }\n",
       "\n",
       "    .dataframe tbody tr th {\n",
       "        vertical-align: top;\n",
       "    }\n",
       "\n",
       "    .dataframe thead th {\n",
       "        text-align: right;\n",
       "    }\n",
       "</style>\n",
       "<table border=\"1\" class=\"dataframe\">\n",
       "  <thead>\n",
       "    <tr style=\"text-align: right;\">\n",
       "      <th></th>\n",
       "      <th>Year</th>\n",
       "      <th>Housing Units</th>\n",
       "      <th>People Left Homeless</th>\n",
       "      <th>Minors Left Homeless</th>\n",
       "      <th>Area</th>\n",
       "      <th>Type of Structure</th>\n",
       "      <th>Demolish Scope</th>\n",
       "      <th>District</th>\n",
       "      <th>Demolition Reason</th>\n",
       "      <th>Demolition carried out by</th>\n",
       "    </tr>\n",
       "  </thead>\n",
       "  <tbody>\n",
       "    <tr>\n",
       "      <th>0</th>\n",
       "      <td>2021.0</td>\n",
       "      <td>8</td>\n",
       "      <td>31</td>\n",
       "      <td>14</td>\n",
       "      <td>The West Bank (Excluding East Jerusalem)</td>\n",
       "      <td>Residential Structure</td>\n",
       "      <td>NaN</td>\n",
       "      <td>Al-Quds</td>\n",
       "      <td>Demolition on the pretext of unlawful construc...</td>\n",
       "      <td>NaN</td>\n",
       "    </tr>\n",
       "    <tr>\n",
       "      <th>1</th>\n",
       "      <td>2021.0</td>\n",
       "      <td>3</td>\n",
       "      <td>5</td>\n",
       "      <td>1</td>\n",
       "      <td>The West Bank (Excluding East Jerusalem)</td>\n",
       "      <td>Residential Structure</td>\n",
       "      <td>NaN</td>\n",
       "      <td>Bethlehem</td>\n",
       "      <td>Demolition on the pretext of unlawful construc...</td>\n",
       "      <td>NaN</td>\n",
       "    </tr>\n",
       "    <tr>\n",
       "      <th>2</th>\n",
       "      <td>2021.0</td>\n",
       "      <td>7</td>\n",
       "      <td>18</td>\n",
       "      <td>12</td>\n",
       "      <td>The West Bank (Excluding East Jerusalem)</td>\n",
       "      <td>Residential Structure</td>\n",
       "      <td>NaN</td>\n",
       "      <td>Hebron</td>\n",
       "      <td>Demolition on the pretext of unlawful construc...</td>\n",
       "      <td>NaN</td>\n",
       "    </tr>\n",
       "    <tr>\n",
       "      <th>3</th>\n",
       "      <td>2021.0</td>\n",
       "      <td>1</td>\n",
       "      <td>0</td>\n",
       "      <td>0</td>\n",
       "      <td>The West Bank (Excluding East Jerusalem)</td>\n",
       "      <td>Residential Structure</td>\n",
       "      <td>NaN</td>\n",
       "      <td>Jenin</td>\n",
       "      <td>Demolition on the pretext of unlawful construc...</td>\n",
       "      <td>NaN</td>\n",
       "    </tr>\n",
       "    <tr>\n",
       "      <th>4</th>\n",
       "      <td>2021.0</td>\n",
       "      <td>16</td>\n",
       "      <td>78</td>\n",
       "      <td>33</td>\n",
       "      <td>The West Bank (Excluding East Jerusalem)</td>\n",
       "      <td>Residential Structure</td>\n",
       "      <td>NaN</td>\n",
       "      <td>Jericho</td>\n",
       "      <td>Demolition on the pretext of unlawful construc...</td>\n",
       "      <td>NaN</td>\n",
       "    </tr>\n",
       "  </tbody>\n",
       "</table>\n",
       "</div>"
      ],
      "text/plain": [
       "     Year Housing Units People Left Homeless Minors Left Homeless  \\\n",
       "0  2021.0             8                   31                   14   \n",
       "1  2021.0             3                    5                    1   \n",
       "2  2021.0             7                   18                   12   \n",
       "3  2021.0             1                    0                    0   \n",
       "4  2021.0            16                   78                   33   \n",
       "\n",
       "                                       Area      Type of Structure  \\\n",
       "0  The West Bank (Excluding East Jerusalem)  Residential Structure   \n",
       "1  The West Bank (Excluding East Jerusalem)  Residential Structure   \n",
       "2  The West Bank (Excluding East Jerusalem)  Residential Structure   \n",
       "3  The West Bank (Excluding East Jerusalem)  Residential Structure   \n",
       "4  The West Bank (Excluding East Jerusalem)  Residential Structure   \n",
       "\n",
       "  Demolish Scope   District  \\\n",
       "0            NaN    Al-Quds   \n",
       "1            NaN  Bethlehem   \n",
       "2            NaN     Hebron   \n",
       "3            NaN      Jenin   \n",
       "4            NaN    Jericho   \n",
       "\n",
       "                                   Demolition Reason Demolition carried out by  \n",
       "0  Demolition on the pretext of unlawful construc...                       NaN  \n",
       "1  Demolition on the pretext of unlawful construc...                       NaN  \n",
       "2  Demolition on the pretext of unlawful construc...                       NaN  \n",
       "3  Demolition on the pretext of unlawful construc...                       NaN  \n",
       "4  Demolition on the pretext of unlawful construc...                       NaN  "
      ]
     },
     "execution_count": 151,
     "metadata": {},
     "output_type": "execute_result"
    }
   ],
   "source": [
    "df.head()"
   ]
  },
  {
   "cell_type": "code",
   "execution_count": 152,
   "metadata": {},
   "outputs": [
    {
     "data": {
      "text/html": [
       "<div>\n",
       "<style scoped>\n",
       "    .dataframe tbody tr th:only-of-type {\n",
       "        vertical-align: middle;\n",
       "    }\n",
       "\n",
       "    .dataframe tbody tr th {\n",
       "        vertical-align: top;\n",
       "    }\n",
       "\n",
       "    .dataframe thead th {\n",
       "        text-align: right;\n",
       "    }\n",
       "</style>\n",
       "<table border=\"1\" class=\"dataframe\">\n",
       "  <thead>\n",
       "    <tr style=\"text-align: right;\">\n",
       "      <th></th>\n",
       "      <th>Year</th>\n",
       "      <th>Housing Units</th>\n",
       "      <th>People Left Homeless</th>\n",
       "      <th>Minors Left Homeless</th>\n",
       "      <th>Area</th>\n",
       "      <th>Type of Structure</th>\n",
       "      <th>Demolish Scope</th>\n",
       "      <th>District</th>\n",
       "      <th>Demolition Reason</th>\n",
       "      <th>Demolition carried out by</th>\n",
       "    </tr>\n",
       "  </thead>\n",
       "  <tbody>\n",
       "    <tr>\n",
       "      <th>267</th>\n",
       "      <td>2004.0</td>\n",
       "      <td>4</td>\n",
       "      <td>20</td>\n",
       "      <td>0</td>\n",
       "      <td>Gaza Strip</td>\n",
       "      <td>Residential Structure</td>\n",
       "      <td>Complete Demolition</td>\n",
       "      <td>Noth Gaza</td>\n",
       "      <td>Demolition of houses as punishment</td>\n",
       "      <td>NaN</td>\n",
       "    </tr>\n",
       "    <tr>\n",
       "      <th>268</th>\n",
       "      <td>2004.0</td>\n",
       "      <td>8</td>\n",
       "      <td>66</td>\n",
       "      <td>0</td>\n",
       "      <td>Gaza Strip</td>\n",
       "      <td>Residential Structure</td>\n",
       "      <td>Complete Demolition</td>\n",
       "      <td>Rafah</td>\n",
       "      <td>Demolition of houses as punishment</td>\n",
       "      <td>NaN</td>\n",
       "    </tr>\n",
       "    <tr>\n",
       "      <th>269</th>\n",
       "      <td>NaN</td>\n",
       "      <td>NaN</td>\n",
       "      <td>NaN</td>\n",
       "      <td>NaN</td>\n",
       "      <td>NaN</td>\n",
       "      <td>NaN</td>\n",
       "      <td>NaN</td>\n",
       "      <td>NaN</td>\n",
       "      <td>NaN</td>\n",
       "      <td>NaN</td>\n",
       "    </tr>\n",
       "    <tr>\n",
       "      <th>270</th>\n",
       "      <td>NaN</td>\n",
       "      <td>NaN</td>\n",
       "      <td>NaN</td>\n",
       "      <td>NaN</td>\n",
       "      <td>NaN</td>\n",
       "      <td>NaN</td>\n",
       "      <td>NaN</td>\n",
       "      <td>NaN</td>\n",
       "      <td>NaN</td>\n",
       "      <td>NaN</td>\n",
       "    </tr>\n",
       "    <tr>\n",
       "      <th>271</th>\n",
       "      <td>NaN</td>\n",
       "      <td>5,498</td>\n",
       "      <td>25,730</td>\n",
       "      <td>5,998</td>\n",
       "      <td>NaN</td>\n",
       "      <td>NaN</td>\n",
       "      <td>NaN</td>\n",
       "      <td>NaN</td>\n",
       "      <td>NaN</td>\n",
       "      <td>NaN</td>\n",
       "    </tr>\n",
       "  </tbody>\n",
       "</table>\n",
       "</div>"
      ],
      "text/plain": [
       "       Year Housing Units People Left Homeless Minors Left Homeless  \\\n",
       "267  2004.0             4                   20                    0   \n",
       "268  2004.0             8                   66                    0   \n",
       "269     NaN           NaN                  NaN                  NaN   \n",
       "270     NaN           NaN                  NaN                  NaN   \n",
       "271     NaN         5,498               25,730                5,998   \n",
       "\n",
       "           Area      Type of Structure       Demolish Scope   District  \\\n",
       "267  Gaza Strip  Residential Structure  Complete Demolition  Noth Gaza   \n",
       "268  Gaza Strip  Residential Structure  Complete Demolition      Rafah   \n",
       "269         NaN                    NaN                  NaN        NaN   \n",
       "270         NaN                    NaN                  NaN        NaN   \n",
       "271         NaN                    NaN                  NaN        NaN   \n",
       "\n",
       "                      Demolition Reason Demolition carried out by  \n",
       "267  Demolition of houses as punishment                       NaN  \n",
       "268  Demolition of houses as punishment                       NaN  \n",
       "269                                 NaN                       NaN  \n",
       "270                                 NaN                       NaN  \n",
       "271                                 NaN                       NaN  "
      ]
     },
     "execution_count": 152,
     "metadata": {},
     "output_type": "execute_result"
    }
   ],
   "source": [
    "df.tail()"
   ]
  },
  {
   "cell_type": "code",
   "execution_count": 153,
   "metadata": {},
   "outputs": [
    {
     "data": {
      "text/html": [
       "<div>\n",
       "<style scoped>\n",
       "    .dataframe tbody tr th:only-of-type {\n",
       "        vertical-align: middle;\n",
       "    }\n",
       "\n",
       "    .dataframe tbody tr th {\n",
       "        vertical-align: top;\n",
       "    }\n",
       "\n",
       "    .dataframe thead th {\n",
       "        text-align: right;\n",
       "    }\n",
       "</style>\n",
       "<table border=\"1\" class=\"dataframe\">\n",
       "  <thead>\n",
       "    <tr style=\"text-align: right;\">\n",
       "      <th></th>\n",
       "      <th>Housing Units</th>\n",
       "      <th>People Left Homeless</th>\n",
       "      <th>Minors Left Homeless</th>\n",
       "      <th>Area</th>\n",
       "      <th>Type of Structure</th>\n",
       "      <th>Demolish Scope</th>\n",
       "      <th>District</th>\n",
       "      <th>Demolition Reason</th>\n",
       "      <th>Demolition carried out by</th>\n",
       "    </tr>\n",
       "  </thead>\n",
       "  <tbody>\n",
       "    <tr>\n",
       "      <th>count</th>\n",
       "      <td>270</td>\n",
       "      <td>270</td>\n",
       "      <td>269</td>\n",
       "      <td>269</td>\n",
       "      <td>269</td>\n",
       "      <td>97</td>\n",
       "      <td>269</td>\n",
       "      <td>269</td>\n",
       "      <td>52</td>\n",
       "    </tr>\n",
       "    <tr>\n",
       "      <th>unique</th>\n",
       "      <td>62</td>\n",
       "      <td>117</td>\n",
       "      <td>78</td>\n",
       "      <td>3</td>\n",
       "      <td>2</td>\n",
       "      <td>2</td>\n",
       "      <td>21</td>\n",
       "      <td>3</td>\n",
       "      <td>2</td>\n",
       "    </tr>\n",
       "    <tr>\n",
       "      <th>top</th>\n",
       "      <td>1</td>\n",
       "      <td>0</td>\n",
       "      <td>0</td>\n",
       "      <td>The West Bank (Excluding East Jerusalem)</td>\n",
       "      <td>Residential Structure</td>\n",
       "      <td>Complete Demolition</td>\n",
       "      <td>East Jerusalem</td>\n",
       "      <td>Demolition on the pretext of unlawful construc...</td>\n",
       "      <td>Authorities</td>\n",
       "    </tr>\n",
       "    <tr>\n",
       "      <th>freq</th>\n",
       "      <td>38</td>\n",
       "      <td>45</td>\n",
       "      <td>90</td>\n",
       "      <td>182</td>\n",
       "      <td>247</td>\n",
       "      <td>89</td>\n",
       "      <td>58</td>\n",
       "      <td>172</td>\n",
       "      <td>28</td>\n",
       "    </tr>\n",
       "  </tbody>\n",
       "</table>\n",
       "</div>"
      ],
      "text/plain": [
       "       Housing Units People Left Homeless Minors Left Homeless  \\\n",
       "count            270                  270                  269   \n",
       "unique            62                  117                   78   \n",
       "top                1                    0                    0   \n",
       "freq              38                   45                   90   \n",
       "\n",
       "                                            Area      Type of Structure  \\\n",
       "count                                        269                    269   \n",
       "unique                                         3                      2   \n",
       "top     The West Bank (Excluding East Jerusalem)  Residential Structure   \n",
       "freq                                         182                    247   \n",
       "\n",
       "             Demolish Scope        District  \\\n",
       "count                    97             269   \n",
       "unique                    2              21   \n",
       "top     Complete Demolition  East Jerusalem   \n",
       "freq                     89              58   \n",
       "\n",
       "                                        Demolition Reason  \\\n",
       "count                                                 269   \n",
       "unique                                                  3   \n",
       "top     Demolition on the pretext of unlawful construc...   \n",
       "freq                                                  172   \n",
       "\n",
       "       Demolition carried out by  \n",
       "count                         52  \n",
       "unique                         2  \n",
       "top                  Authorities  \n",
       "freq                          28  "
      ]
     },
     "execution_count": 153,
     "metadata": {},
     "output_type": "execute_result"
    }
   ],
   "source": [
    "df.describe(exclude='number')"
   ]
  },
  {
   "cell_type": "code",
   "execution_count": 154,
   "metadata": {},
   "outputs": [
    {
     "name": "stdout",
     "output_type": "stream",
     "text": [
      "<class 'pandas.core.frame.DataFrame'>\n",
      "RangeIndex: 272 entries, 0 to 271\n",
      "Data columns (total 10 columns):\n",
      " #   Column                     Non-Null Count  Dtype  \n",
      "---  ------                     --------------  -----  \n",
      " 0   Year                       269 non-null    float64\n",
      " 1   Housing Units              270 non-null    object \n",
      " 2   People Left Homeless       270 non-null    object \n",
      " 3   Minors Left Homeless       269 non-null    object \n",
      " 4   Area                       269 non-null    object \n",
      " 5   Type of Structure          269 non-null    object \n",
      " 6   Demolish Scope             97 non-null     object \n",
      " 7   District                   269 non-null    object \n",
      " 8   Demolition Reason          269 non-null    object \n",
      " 9   Demolition carried out by  52 non-null     object \n",
      "dtypes: float64(1), object(9)\n",
      "memory usage: 21.4+ KB\n"
     ]
    }
   ],
   "source": [
    "df.info()"
   ]
  },
  {
   "cell_type": "code",
   "execution_count": 155,
   "metadata": {},
   "outputs": [],
   "source": [
    "t = df['Demolition Reason'].value_counts().reset_index()"
   ]
  },
  {
   "cell_type": "code",
   "execution_count": 156,
   "metadata": {},
   "outputs": [],
   "source": [
    "# Cleaning \n",
    "df = pd.read_csv('House Demolitions in Palestine.csv')\n",
    "\n",
    "df['District'] = df['District'].str.replace('Noth Gaza', 'North Gaza')\n",
    "df.dropna(subset=['Year'], inplace=True)\n",
    "\n",
    "df['Minors Left Homeless'].fillna('0', inplace=True)\n",
    "df['Demolition carried out by'].fillna('Unknown', inplace=True)\n",
    "df['Demolish Scope'].fillna('Unknown', inplace=True)\n",
    "\n",
    "df.isna().sum()\n",
    "\n",
    "df[\"People Left Homeless\"] = df[\"People Left Homeless\"].map(lambda x: x.replace(\",\", \"\"))\n",
    "\n",
    "df['Year'] = df['Year'].astype(int)\n",
    "df['Year'] = df['Year'].astype(str)\n",
    "df['Housing Units'] = df['Housing Units'].astype(int)\n",
    "df['People Left Homeless'] = df['People Left Homeless'].astype(int)\n",
    "df['Minors Left Homeless'] = df['Minors Left Homeless'].astype(int)\n"
   ]
  },
  {
   "cell_type": "code",
   "execution_count": 157,
   "metadata": {},
   "outputs": [
    {
     "data": {
      "application/vnd.jupyter.widget-view+json": {
       "model_id": "56a9003e12cd4b04a4476029a8887238",
       "version_major": 2,
       "version_minor": 0
      },
      "text/plain": [
       "Summarize dataset:   0%|          | 0/5 [00:00<?, ?it/s]"
      ]
     },
     "metadata": {},
     "output_type": "display_data"
    },
    {
     "data": {
      "application/vnd.jupyter.widget-view+json": {
       "model_id": "8a1cf0bc5ba64f719d35753aeddd07f5",
       "version_major": 2,
       "version_minor": 0
      },
      "text/plain": [
       "Generate report structure:   0%|          | 0/1 [00:00<?, ?it/s]"
      ]
     },
     "metadata": {},
     "output_type": "display_data"
    },
    {
     "data": {
      "application/vnd.jupyter.widget-view+json": {
       "model_id": "f01c4c2246714f4bb64ef8727c84bd06",
       "version_major": 2,
       "version_minor": 0
      },
      "text/plain": [
       "Render HTML:   0%|          | 0/1 [00:00<?, ?it/s]"
      ]
     },
     "metadata": {},
     "output_type": "display_data"
    },
    {
     "data": {
      "application/vnd.jupyter.widget-view+json": {
       "model_id": "6c4e81322c2f497a89f37e19e7e3f087",
       "version_major": 2,
       "version_minor": 0
      },
      "text/plain": [
       "Export report to file:   0%|          | 0/1 [00:00<?, ?it/s]"
      ]
     },
     "metadata": {},
     "output_type": "display_data"
    },
    {
     "data": {
      "application/vnd.jupyter.widget-view+json": {
       "model_id": "1f8fa6715e5d485a9c201e101420af19",
       "version_major": 2,
       "version_minor": 0
      },
      "text/plain": [
       "Render widgets:   0%|          | 0/1 [00:00<?, ?it/s]"
      ]
     },
     "metadata": {},
     "output_type": "display_data"
    },
    {
     "data": {
      "application/vnd.jupyter.widget-view+json": {
       "model_id": "62e0283230b143b7bb5f94400ea6e71e",
       "version_major": 2,
       "version_minor": 0
      },
      "text/plain": [
       "VBox(children=(Tab(children=(Tab(children=(GridBox(children=(VBox(children=(GridspecLayout(children=(HTML(valu…"
      ]
     },
     "metadata": {},
     "output_type": "display_data"
    }
   ],
   "source": [
    "from ydata_profiling import ProfileReport\n",
    "from ipywidgets import widgets\n",
    "from IPython.display import display\n",
    "\n",
    "report = ProfileReport(df)\n",
    "report = ProfileReport(df, minimal=True)\n",
    "report.to_file(output_file=\"output.html\")\n",
    "report.to_widgets()\n"
   ]
  },
  {
   "cell_type": "markdown",
   "metadata": {},
   "source": [
    "**Insights**\n",
    "\n",
    "- Before cleaning:\n",
    "1. The data time scope is from 2004 to 2121.\n",
    "2. Dataset has 10 variables and 272 observations.\n",
    "3. Some data types are object(str) when they should be numeric(int) or the other way around.\n",
    "4. Datasets has 15.3% missing values.\n",
    "5. *Demolition carried out by* column has 220 (80.9%) missing values and *Demolish Scope* Demolish Scope has 175 (64.3%) missing values\n",
    "6. 3 observations are almost completely null and have noise. \n",
    "\n",
    "- After cleaning:\n",
    "7. The year 2004 has seen the highest number of demolitions.\n",
    "8. More demolitions were carried out in *East Jerusalem* than any other area.\n",
    "9. Most given demolition reason was *Demolition on the pretext of unlawful construction*.\n",
    "10. Average housing units demolished in one operation is 20.43 units."
   ]
  },
  {
   "cell_type": "markdown",
   "id": "valued-proof",
   "metadata": {},
   "source": [
    "### Univariate Visualization\n",
    "* Plot two Charts\n",
    "* Provide each charts with at least two insights "
   ]
  },
  {
   "cell_type": "code",
   "execution_count": 158,
   "id": "anticipated-soldier",
   "metadata": {},
   "outputs": [
    {
     "data": {
      "application/vnd.plotly.v1+json": {
       "config": {
        "plotlyServerURL": "https://plot.ly"
       },
       "data": [
        {
         "domain": {
          "x": [
           0,
           1
          ],
          "y": [
           0,
           1
          ]
         },
         "hovertemplate": "Area=%{label}<extra></extra>",
         "labels": [
          "The West Bank (Excluding East Jerusalem)",
          "The West Bank (Excluding East Jerusalem)",
          "The West Bank (Excluding East Jerusalem)",
          "The West Bank (Excluding East Jerusalem)",
          "The West Bank (Excluding East Jerusalem)",
          "The West Bank (Excluding East Jerusalem)",
          "The West Bank (Excluding East Jerusalem)",
          "The West Bank (Excluding East Jerusalem)",
          "East Jerusalem",
          "East Jerusalem",
          "East Jerusalem",
          "East Jerusalem",
          "The West Bank (Excluding East Jerusalem)",
          "The West Bank (Excluding East Jerusalem)",
          "The West Bank (Excluding East Jerusalem)",
          "The West Bank (Excluding East Jerusalem)",
          "The West Bank (Excluding East Jerusalem)",
          "The West Bank (Excluding East Jerusalem)",
          "The West Bank (Excluding East Jerusalem)",
          "The West Bank (Excluding East Jerusalem)",
          "The West Bank (Excluding East Jerusalem)",
          "The West Bank (Excluding East Jerusalem)",
          "East Jerusalem",
          "East Jerusalem",
          "East Jerusalem",
          "East Jerusalem",
          "The West Bank (Excluding East Jerusalem)",
          "The West Bank (Excluding East Jerusalem)",
          "The West Bank (Excluding East Jerusalem)",
          "The West Bank (Excluding East Jerusalem)",
          "The West Bank (Excluding East Jerusalem)",
          "The West Bank (Excluding East Jerusalem)",
          "The West Bank (Excluding East Jerusalem)",
          "The West Bank (Excluding East Jerusalem)",
          "The West Bank (Excluding East Jerusalem)",
          "The West Bank (Excluding East Jerusalem)",
          "The West Bank (Excluding East Jerusalem)",
          "The West Bank (Excluding East Jerusalem)",
          "The West Bank (Excluding East Jerusalem)",
          "East Jerusalem",
          "East Jerusalem",
          "East Jerusalem",
          "East Jerusalem",
          "The West Bank (Excluding East Jerusalem)",
          "The West Bank (Excluding East Jerusalem)",
          "The West Bank (Excluding East Jerusalem)",
          "The West Bank (Excluding East Jerusalem)",
          "The West Bank (Excluding East Jerusalem)",
          "The West Bank (Excluding East Jerusalem)",
          "The West Bank (Excluding East Jerusalem)",
          "The West Bank (Excluding East Jerusalem)",
          "The West Bank (Excluding East Jerusalem)",
          "The West Bank (Excluding East Jerusalem)",
          "The West Bank (Excluding East Jerusalem)",
          "The West Bank (Excluding East Jerusalem)",
          "East Jerusalem",
          "East Jerusalem",
          "East Jerusalem",
          "East Jerusalem",
          "The West Bank (Excluding East Jerusalem)",
          "The West Bank (Excluding East Jerusalem)",
          "The West Bank (Excluding East Jerusalem)",
          "The West Bank (Excluding East Jerusalem)",
          "The West Bank (Excluding East Jerusalem)",
          "The West Bank (Excluding East Jerusalem)",
          "The West Bank (Excluding East Jerusalem)",
          "The West Bank (Excluding East Jerusalem)",
          "The West Bank (Excluding East Jerusalem)",
          "The West Bank (Excluding East Jerusalem)",
          "The West Bank (Excluding East Jerusalem)",
          "The West Bank (Excluding East Jerusalem)",
          "East Jerusalem",
          "East Jerusalem",
          "East Jerusalem",
          "East Jerusalem",
          "The West Bank (Excluding East Jerusalem)",
          "The West Bank (Excluding East Jerusalem)",
          "The West Bank (Excluding East Jerusalem)",
          "The West Bank (Excluding East Jerusalem)",
          "The West Bank (Excluding East Jerusalem)",
          "East Jerusalem",
          "The West Bank (Excluding East Jerusalem)",
          "The West Bank (Excluding East Jerusalem)",
          "The West Bank (Excluding East Jerusalem)",
          "The West Bank (Excluding East Jerusalem)",
          "The West Bank (Excluding East Jerusalem)",
          "The West Bank (Excluding East Jerusalem)",
          "The West Bank (Excluding East Jerusalem)",
          "East Jerusalem",
          "East Jerusalem",
          "East Jerusalem",
          "East Jerusalem",
          "The West Bank (Excluding East Jerusalem)",
          "The West Bank (Excluding East Jerusalem)",
          "The West Bank (Excluding East Jerusalem)",
          "The West Bank (Excluding East Jerusalem)",
          "The West Bank (Excluding East Jerusalem)",
          "The West Bank (Excluding East Jerusalem)",
          "East Jerusalem",
          "The West Bank (Excluding East Jerusalem)",
          "The West Bank (Excluding East Jerusalem)",
          "The West Bank (Excluding East Jerusalem)",
          "The West Bank (Excluding East Jerusalem)",
          "The West Bank (Excluding East Jerusalem)",
          "The West Bank (Excluding East Jerusalem)",
          "The West Bank (Excluding East Jerusalem)",
          "East Jerusalem",
          "East Jerusalem",
          "East Jerusalem",
          "East Jerusalem",
          "The West Bank (Excluding East Jerusalem)",
          "The West Bank (Excluding East Jerusalem)",
          "The West Bank (Excluding East Jerusalem)",
          "The West Bank (Excluding East Jerusalem)",
          "East Jerusalem",
          "East Jerusalem",
          "The West Bank (Excluding East Jerusalem)",
          "The West Bank (Excluding East Jerusalem)",
          "The West Bank (Excluding East Jerusalem)",
          "The West Bank (Excluding East Jerusalem)",
          "The West Bank (Excluding East Jerusalem)",
          "The West Bank (Excluding East Jerusalem)",
          "The West Bank (Excluding East Jerusalem)",
          "East Jerusalem",
          "East Jerusalem",
          "East Jerusalem",
          "East Jerusalem",
          "The West Bank (Excluding East Jerusalem)",
          "The West Bank (Excluding East Jerusalem)",
          "The West Bank (Excluding East Jerusalem)",
          "East Jerusalem",
          "The West Bank (Excluding East Jerusalem)",
          "The West Bank (Excluding East Jerusalem)",
          "The West Bank (Excluding East Jerusalem)",
          "The West Bank (Excluding East Jerusalem)",
          "The West Bank (Excluding East Jerusalem)",
          "The West Bank (Excluding East Jerusalem)",
          "The West Bank (Excluding East Jerusalem)",
          "The West Bank (Excluding East Jerusalem)",
          "The West Bank (Excluding East Jerusalem)",
          "East Jerusalem",
          "East Jerusalem",
          "East Jerusalem",
          "The West Bank (Excluding East Jerusalem)",
          "The West Bank (Excluding East Jerusalem)",
          "The West Bank (Excluding East Jerusalem)",
          "The West Bank (Excluding East Jerusalem)",
          "The West Bank (Excluding East Jerusalem)",
          "The West Bank (Excluding East Jerusalem)",
          "The West Bank (Excluding East Jerusalem)",
          "The West Bank (Excluding East Jerusalem)",
          "The West Bank (Excluding East Jerusalem)",
          "East Jerusalem",
          "East Jerusalem",
          "East Jerusalem",
          "East Jerusalem",
          "The West Bank (Excluding East Jerusalem)",
          "The West Bank (Excluding East Jerusalem)",
          "The West Bank (Excluding East Jerusalem)",
          "The West Bank (Excluding East Jerusalem)",
          "The West Bank (Excluding East Jerusalem)",
          "The West Bank (Excluding East Jerusalem)",
          "The West Bank (Excluding East Jerusalem)",
          "The West Bank (Excluding East Jerusalem)",
          "East Jerusalem",
          "East Jerusalem",
          "Gaza Strip",
          "The West Bank (Excluding East Jerusalem)",
          "The West Bank (Excluding East Jerusalem)",
          "The West Bank (Excluding East Jerusalem)",
          "The West Bank (Excluding East Jerusalem)",
          "The West Bank (Excluding East Jerusalem)",
          "The West Bank (Excluding East Jerusalem)",
          "The West Bank (Excluding East Jerusalem)",
          "The West Bank (Excluding East Jerusalem)",
          "East Jerusalem",
          "East Jerusalem",
          "Gaza Strip",
          "Gaza Strip",
          "Gaza Strip",
          "The West Bank (Excluding East Jerusalem)",
          "The West Bank (Excluding East Jerusalem)",
          "The West Bank (Excluding East Jerusalem)",
          "The West Bank (Excluding East Jerusalem)",
          "East Jerusalem",
          "East Jerusalem",
          "East Jerusalem",
          "The West Bank (Excluding East Jerusalem)",
          "The West Bank (Excluding East Jerusalem)",
          "The West Bank (Excluding East Jerusalem)",
          "The West Bank (Excluding East Jerusalem)",
          "The West Bank (Excluding East Jerusalem)",
          "East Jerusalem",
          "East Jerusalem",
          "Gaza Strip",
          "Gaza Strip",
          "Gaza Strip",
          "Gaza Strip",
          "The West Bank (Excluding East Jerusalem)",
          "The West Bank (Excluding East Jerusalem)",
          "The West Bank (Excluding East Jerusalem)",
          "The West Bank (Excluding East Jerusalem)",
          "The West Bank (Excluding East Jerusalem)",
          "The West Bank (Excluding East Jerusalem)",
          "The West Bank (Excluding East Jerusalem)",
          "The West Bank (Excluding East Jerusalem)",
          "The West Bank (Excluding East Jerusalem)",
          "The West Bank (Excluding East Jerusalem)",
          "The West Bank (Excluding East Jerusalem)",
          "East Jerusalem",
          "East Jerusalem",
          "Gaza Strip",
          "Gaza Strip",
          "Gaza Strip",
          "Gaza Strip",
          "Gaza Strip",
          "The West Bank (Excluding East Jerusalem)",
          "The West Bank (Excluding East Jerusalem)",
          "The West Bank (Excluding East Jerusalem)",
          "The West Bank (Excluding East Jerusalem)",
          "The West Bank (Excluding East Jerusalem)",
          "The West Bank (Excluding East Jerusalem)",
          "The West Bank (Excluding East Jerusalem)",
          "The West Bank (Excluding East Jerusalem)",
          "The West Bank (Excluding East Jerusalem)",
          "The West Bank (Excluding East Jerusalem)",
          "The West Bank (Excluding East Jerusalem)",
          "East Jerusalem",
          "Gaza Strip",
          "Gaza Strip",
          "Gaza Strip",
          "Gaza Strip",
          "Gaza Strip",
          "The West Bank (Excluding East Jerusalem)",
          "The West Bank (Excluding East Jerusalem)",
          "The West Bank (Excluding East Jerusalem)",
          "The West Bank (Excluding East Jerusalem)",
          "East Jerusalem",
          "Gaza Strip",
          "The West Bank (Excluding East Jerusalem)",
          "The West Bank (Excluding East Jerusalem)",
          "The West Bank (Excluding East Jerusalem)",
          "The West Bank (Excluding East Jerusalem)",
          "The West Bank (Excluding East Jerusalem)",
          "The West Bank (Excluding East Jerusalem)",
          "East Jerusalem",
          "Gaza Strip",
          "Gaza Strip",
          "Gaza Strip",
          "Gaza Strip",
          "Gaza Strip",
          "The West Bank (Excluding East Jerusalem)",
          "The West Bank (Excluding East Jerusalem)",
          "The West Bank (Excluding East Jerusalem)",
          "The West Bank (Excluding East Jerusalem)",
          "The West Bank (Excluding East Jerusalem)",
          "The West Bank (Excluding East Jerusalem)",
          "The West Bank (Excluding East Jerusalem)",
          "The West Bank (Excluding East Jerusalem)",
          "The West Bank (Excluding East Jerusalem)",
          "The West Bank (Excluding East Jerusalem)",
          "The West Bank (Excluding East Jerusalem)",
          "The West Bank (Excluding East Jerusalem)",
          "The West Bank (Excluding East Jerusalem)",
          "Gaza Strip",
          "Gaza Strip",
          "Gaza Strip",
          "Gaza Strip",
          "Gaza Strip"
         ],
         "legendgroup": "",
         "name": "",
         "showlegend": true,
         "type": "pie"
        }
       ],
       "layout": {
        "legend": {
         "tracegroupgap": 0
        },
        "template": {
         "data": {
          "bar": [
           {
            "error_x": {
             "color": "#2a3f5f"
            },
            "error_y": {
             "color": "#2a3f5f"
            },
            "marker": {
             "line": {
              "color": "#E5ECF6",
              "width": 0.5
             },
             "pattern": {
              "fillmode": "overlay",
              "size": 10,
              "solidity": 0.2
             }
            },
            "type": "bar"
           }
          ],
          "barpolar": [
           {
            "marker": {
             "line": {
              "color": "#E5ECF6",
              "width": 0.5
             },
             "pattern": {
              "fillmode": "overlay",
              "size": 10,
              "solidity": 0.2
             }
            },
            "type": "barpolar"
           }
          ],
          "carpet": [
           {
            "aaxis": {
             "endlinecolor": "#2a3f5f",
             "gridcolor": "white",
             "linecolor": "white",
             "minorgridcolor": "white",
             "startlinecolor": "#2a3f5f"
            },
            "baxis": {
             "endlinecolor": "#2a3f5f",
             "gridcolor": "white",
             "linecolor": "white",
             "minorgridcolor": "white",
             "startlinecolor": "#2a3f5f"
            },
            "type": "carpet"
           }
          ],
          "choropleth": [
           {
            "colorbar": {
             "outlinewidth": 0,
             "ticks": ""
            },
            "type": "choropleth"
           }
          ],
          "contour": [
           {
            "colorbar": {
             "outlinewidth": 0,
             "ticks": ""
            },
            "colorscale": [
             [
              0,
              "#0d0887"
             ],
             [
              0.1111111111111111,
              "#46039f"
             ],
             [
              0.2222222222222222,
              "#7201a8"
             ],
             [
              0.3333333333333333,
              "#9c179e"
             ],
             [
              0.4444444444444444,
              "#bd3786"
             ],
             [
              0.5555555555555556,
              "#d8576b"
             ],
             [
              0.6666666666666666,
              "#ed7953"
             ],
             [
              0.7777777777777778,
              "#fb9f3a"
             ],
             [
              0.8888888888888888,
              "#fdca26"
             ],
             [
              1,
              "#f0f921"
             ]
            ],
            "type": "contour"
           }
          ],
          "contourcarpet": [
           {
            "colorbar": {
             "outlinewidth": 0,
             "ticks": ""
            },
            "type": "contourcarpet"
           }
          ],
          "heatmap": [
           {
            "colorbar": {
             "outlinewidth": 0,
             "ticks": ""
            },
            "colorscale": [
             [
              0,
              "#0d0887"
             ],
             [
              0.1111111111111111,
              "#46039f"
             ],
             [
              0.2222222222222222,
              "#7201a8"
             ],
             [
              0.3333333333333333,
              "#9c179e"
             ],
             [
              0.4444444444444444,
              "#bd3786"
             ],
             [
              0.5555555555555556,
              "#d8576b"
             ],
             [
              0.6666666666666666,
              "#ed7953"
             ],
             [
              0.7777777777777778,
              "#fb9f3a"
             ],
             [
              0.8888888888888888,
              "#fdca26"
             ],
             [
              1,
              "#f0f921"
             ]
            ],
            "type": "heatmap"
           }
          ],
          "heatmapgl": [
           {
            "colorbar": {
             "outlinewidth": 0,
             "ticks": ""
            },
            "colorscale": [
             [
              0,
              "#0d0887"
             ],
             [
              0.1111111111111111,
              "#46039f"
             ],
             [
              0.2222222222222222,
              "#7201a8"
             ],
             [
              0.3333333333333333,
              "#9c179e"
             ],
             [
              0.4444444444444444,
              "#bd3786"
             ],
             [
              0.5555555555555556,
              "#d8576b"
             ],
             [
              0.6666666666666666,
              "#ed7953"
             ],
             [
              0.7777777777777778,
              "#fb9f3a"
             ],
             [
              0.8888888888888888,
              "#fdca26"
             ],
             [
              1,
              "#f0f921"
             ]
            ],
            "type": "heatmapgl"
           }
          ],
          "histogram": [
           {
            "marker": {
             "pattern": {
              "fillmode": "overlay",
              "size": 10,
              "solidity": 0.2
             }
            },
            "type": "histogram"
           }
          ],
          "histogram2d": [
           {
            "colorbar": {
             "outlinewidth": 0,
             "ticks": ""
            },
            "colorscale": [
             [
              0,
              "#0d0887"
             ],
             [
              0.1111111111111111,
              "#46039f"
             ],
             [
              0.2222222222222222,
              "#7201a8"
             ],
             [
              0.3333333333333333,
              "#9c179e"
             ],
             [
              0.4444444444444444,
              "#bd3786"
             ],
             [
              0.5555555555555556,
              "#d8576b"
             ],
             [
              0.6666666666666666,
              "#ed7953"
             ],
             [
              0.7777777777777778,
              "#fb9f3a"
             ],
             [
              0.8888888888888888,
              "#fdca26"
             ],
             [
              1,
              "#f0f921"
             ]
            ],
            "type": "histogram2d"
           }
          ],
          "histogram2dcontour": [
           {
            "colorbar": {
             "outlinewidth": 0,
             "ticks": ""
            },
            "colorscale": [
             [
              0,
              "#0d0887"
             ],
             [
              0.1111111111111111,
              "#46039f"
             ],
             [
              0.2222222222222222,
              "#7201a8"
             ],
             [
              0.3333333333333333,
              "#9c179e"
             ],
             [
              0.4444444444444444,
              "#bd3786"
             ],
             [
              0.5555555555555556,
              "#d8576b"
             ],
             [
              0.6666666666666666,
              "#ed7953"
             ],
             [
              0.7777777777777778,
              "#fb9f3a"
             ],
             [
              0.8888888888888888,
              "#fdca26"
             ],
             [
              1,
              "#f0f921"
             ]
            ],
            "type": "histogram2dcontour"
           }
          ],
          "mesh3d": [
           {
            "colorbar": {
             "outlinewidth": 0,
             "ticks": ""
            },
            "type": "mesh3d"
           }
          ],
          "parcoords": [
           {
            "line": {
             "colorbar": {
              "outlinewidth": 0,
              "ticks": ""
             }
            },
            "type": "parcoords"
           }
          ],
          "pie": [
           {
            "automargin": true,
            "type": "pie"
           }
          ],
          "scatter": [
           {
            "fillpattern": {
             "fillmode": "overlay",
             "size": 10,
             "solidity": 0.2
            },
            "type": "scatter"
           }
          ],
          "scatter3d": [
           {
            "line": {
             "colorbar": {
              "outlinewidth": 0,
              "ticks": ""
             }
            },
            "marker": {
             "colorbar": {
              "outlinewidth": 0,
              "ticks": ""
             }
            },
            "type": "scatter3d"
           }
          ],
          "scattercarpet": [
           {
            "marker": {
             "colorbar": {
              "outlinewidth": 0,
              "ticks": ""
             }
            },
            "type": "scattercarpet"
           }
          ],
          "scattergeo": [
           {
            "marker": {
             "colorbar": {
              "outlinewidth": 0,
              "ticks": ""
             }
            },
            "type": "scattergeo"
           }
          ],
          "scattergl": [
           {
            "marker": {
             "colorbar": {
              "outlinewidth": 0,
              "ticks": ""
             }
            },
            "type": "scattergl"
           }
          ],
          "scattermapbox": [
           {
            "marker": {
             "colorbar": {
              "outlinewidth": 0,
              "ticks": ""
             }
            },
            "type": "scattermapbox"
           }
          ],
          "scatterpolar": [
           {
            "marker": {
             "colorbar": {
              "outlinewidth": 0,
              "ticks": ""
             }
            },
            "type": "scatterpolar"
           }
          ],
          "scatterpolargl": [
           {
            "marker": {
             "colorbar": {
              "outlinewidth": 0,
              "ticks": ""
             }
            },
            "type": "scatterpolargl"
           }
          ],
          "scatterternary": [
           {
            "marker": {
             "colorbar": {
              "outlinewidth": 0,
              "ticks": ""
             }
            },
            "type": "scatterternary"
           }
          ],
          "surface": [
           {
            "colorbar": {
             "outlinewidth": 0,
             "ticks": ""
            },
            "colorscale": [
             [
              0,
              "#0d0887"
             ],
             [
              0.1111111111111111,
              "#46039f"
             ],
             [
              0.2222222222222222,
              "#7201a8"
             ],
             [
              0.3333333333333333,
              "#9c179e"
             ],
             [
              0.4444444444444444,
              "#bd3786"
             ],
             [
              0.5555555555555556,
              "#d8576b"
             ],
             [
              0.6666666666666666,
              "#ed7953"
             ],
             [
              0.7777777777777778,
              "#fb9f3a"
             ],
             [
              0.8888888888888888,
              "#fdca26"
             ],
             [
              1,
              "#f0f921"
             ]
            ],
            "type": "surface"
           }
          ],
          "table": [
           {
            "cells": {
             "fill": {
              "color": "#EBF0F8"
             },
             "line": {
              "color": "white"
             }
            },
            "header": {
             "fill": {
              "color": "#C8D4E3"
             },
             "line": {
              "color": "white"
             }
            },
            "type": "table"
           }
          ]
         },
         "layout": {
          "annotationdefaults": {
           "arrowcolor": "#2a3f5f",
           "arrowhead": 0,
           "arrowwidth": 1
          },
          "autotypenumbers": "strict",
          "coloraxis": {
           "colorbar": {
            "outlinewidth": 0,
            "ticks": ""
           }
          },
          "colorscale": {
           "diverging": [
            [
             0,
             "#8e0152"
            ],
            [
             0.1,
             "#c51b7d"
            ],
            [
             0.2,
             "#de77ae"
            ],
            [
             0.3,
             "#f1b6da"
            ],
            [
             0.4,
             "#fde0ef"
            ],
            [
             0.5,
             "#f7f7f7"
            ],
            [
             0.6,
             "#e6f5d0"
            ],
            [
             0.7,
             "#b8e186"
            ],
            [
             0.8,
             "#7fbc41"
            ],
            [
             0.9,
             "#4d9221"
            ],
            [
             1,
             "#276419"
            ]
           ],
           "sequential": [
            [
             0,
             "#0d0887"
            ],
            [
             0.1111111111111111,
             "#46039f"
            ],
            [
             0.2222222222222222,
             "#7201a8"
            ],
            [
             0.3333333333333333,
             "#9c179e"
            ],
            [
             0.4444444444444444,
             "#bd3786"
            ],
            [
             0.5555555555555556,
             "#d8576b"
            ],
            [
             0.6666666666666666,
             "#ed7953"
            ],
            [
             0.7777777777777778,
             "#fb9f3a"
            ],
            [
             0.8888888888888888,
             "#fdca26"
            ],
            [
             1,
             "#f0f921"
            ]
           ],
           "sequentialminus": [
            [
             0,
             "#0d0887"
            ],
            [
             0.1111111111111111,
             "#46039f"
            ],
            [
             0.2222222222222222,
             "#7201a8"
            ],
            [
             0.3333333333333333,
             "#9c179e"
            ],
            [
             0.4444444444444444,
             "#bd3786"
            ],
            [
             0.5555555555555556,
             "#d8576b"
            ],
            [
             0.6666666666666666,
             "#ed7953"
            ],
            [
             0.7777777777777778,
             "#fb9f3a"
            ],
            [
             0.8888888888888888,
             "#fdca26"
            ],
            [
             1,
             "#f0f921"
            ]
           ]
          },
          "colorway": [
           "#636efa",
           "#EF553B",
           "#00cc96",
           "#ab63fa",
           "#FFA15A",
           "#19d3f3",
           "#FF6692",
           "#B6E880",
           "#FF97FF",
           "#FECB52"
          ],
          "font": {
           "color": "#2a3f5f"
          },
          "geo": {
           "bgcolor": "white",
           "lakecolor": "white",
           "landcolor": "#E5ECF6",
           "showlakes": true,
           "showland": true,
           "subunitcolor": "white"
          },
          "hoverlabel": {
           "align": "left"
          },
          "hovermode": "closest",
          "mapbox": {
           "style": "light"
          },
          "paper_bgcolor": "white",
          "plot_bgcolor": "#E5ECF6",
          "polar": {
           "angularaxis": {
            "gridcolor": "white",
            "linecolor": "white",
            "ticks": ""
           },
           "bgcolor": "#E5ECF6",
           "radialaxis": {
            "gridcolor": "white",
            "linecolor": "white",
            "ticks": ""
           }
          },
          "scene": {
           "xaxis": {
            "backgroundcolor": "#E5ECF6",
            "gridcolor": "white",
            "gridwidth": 2,
            "linecolor": "white",
            "showbackground": true,
            "ticks": "",
            "zerolinecolor": "white"
           },
           "yaxis": {
            "backgroundcolor": "#E5ECF6",
            "gridcolor": "white",
            "gridwidth": 2,
            "linecolor": "white",
            "showbackground": true,
            "ticks": "",
            "zerolinecolor": "white"
           },
           "zaxis": {
            "backgroundcolor": "#E5ECF6",
            "gridcolor": "white",
            "gridwidth": 2,
            "linecolor": "white",
            "showbackground": true,
            "ticks": "",
            "zerolinecolor": "white"
           }
          },
          "shapedefaults": {
           "line": {
            "color": "#2a3f5f"
           }
          },
          "ternary": {
           "aaxis": {
            "gridcolor": "white",
            "linecolor": "white",
            "ticks": ""
           },
           "baxis": {
            "gridcolor": "white",
            "linecolor": "white",
            "ticks": ""
           },
           "bgcolor": "#E5ECF6",
           "caxis": {
            "gridcolor": "white",
            "linecolor": "white",
            "ticks": ""
           }
          },
          "title": {
           "x": 0.05
          },
          "xaxis": {
           "automargin": true,
           "gridcolor": "white",
           "linecolor": "white",
           "ticks": "",
           "title": {
            "standoff": 15
           },
           "zerolinecolor": "white",
           "zerolinewidth": 2
          },
          "yaxis": {
           "automargin": true,
           "gridcolor": "white",
           "linecolor": "white",
           "ticks": "",
           "title": {
            "standoff": 15
           },
           "zerolinecolor": "white",
           "zerolinewidth": 2
          }
         }
        },
        "title": {
         "text": "Demolitions per area"
        }
       }
      }
     },
     "metadata": {},
     "output_type": "display_data"
    },
    {
     "data": {
      "application/vnd.plotly.v1+json": {
       "config": {
        "plotlyServerURL": "https://plot.ly"
       },
       "data": [
        {
         "alignmentgroup": "True",
         "hovertemplate": "Year=%{x}<br>count=%{y}<extra></extra>",
         "legendgroup": "",
         "marker": {
          "color": "#636efa",
          "pattern": {
           "shape": ""
          }
         },
         "name": "",
         "offsetgroup": "",
         "orientation": "v",
         "showlegend": false,
         "textposition": "auto",
         "type": "bar",
         "x": [
          "2021",
          "2021",
          "2021",
          "2021",
          "2021",
          "2021",
          "2021",
          "2021",
          "2021",
          "2021",
          "2021",
          "2021",
          "2021",
          "2020",
          "2020",
          "2020",
          "2020",
          "2020",
          "2020",
          "2020",
          "2020",
          "2020",
          "2020",
          "2020",
          "2020",
          "2020",
          "2020",
          "2020",
          "2020",
          "2020",
          "2019",
          "2019",
          "2019",
          "2019",
          "2019",
          "2019",
          "2019",
          "2019",
          "2019",
          "2019",
          "2019",
          "2019",
          "2019",
          "2019",
          "2019",
          "2019",
          "2019",
          "2018",
          "2018",
          "2018",
          "2018",
          "2018",
          "2018",
          "2018",
          "2018",
          "2018",
          "2018",
          "2018",
          "2018",
          "2018",
          "2018",
          "2018",
          "2018",
          "2018",
          "2017",
          "2017",
          "2017",
          "2017",
          "2017",
          "2017",
          "2017",
          "2017",
          "2017",
          "2017",
          "2017",
          "2017",
          "2017",
          "2017",
          "2017",
          "2017",
          "2017",
          "2016",
          "2016",
          "2016",
          "2016",
          "2016",
          "2016",
          "2016",
          "2016",
          "2016",
          "2016",
          "2016",
          "2016",
          "2016",
          "2016",
          "2016",
          "2016",
          "2016",
          "2016",
          "2015",
          "2015",
          "2015",
          "2015",
          "2015",
          "2015",
          "2015",
          "2015",
          "2015",
          "2015",
          "2015",
          "2015",
          "2015",
          "2015",
          "2015",
          "2015",
          "2015",
          "2014",
          "2014",
          "2014",
          "2014",
          "2014",
          "2014",
          "2014",
          "2014",
          "2014",
          "2014",
          "2014",
          "2014",
          "2014",
          "2014",
          "2014",
          "2013",
          "2013",
          "2013",
          "2013",
          "2013",
          "2013",
          "2013",
          "2013",
          "2013",
          "2013",
          "2013",
          "2013",
          "2012",
          "2012",
          "2012",
          "2012",
          "2012",
          "2012",
          "2012",
          "2012",
          "2012",
          "2012",
          "2012",
          "2012",
          "2012",
          "2011",
          "2011",
          "2011",
          "2011",
          "2011",
          "2011",
          "2011",
          "2011",
          "2011",
          "2011",
          "2011",
          "2010",
          "2010",
          "2010",
          "2010",
          "2010",
          "2010",
          "2010",
          "2010",
          "2010",
          "2010",
          "2010",
          "2010",
          "2010",
          "2010",
          "2009",
          "2009",
          "2009",
          "2009",
          "2009",
          "2009",
          "2008",
          "2008",
          "2008",
          "2008",
          "2008",
          "2008",
          "2008",
          "2008",
          "2008",
          "2008",
          "2008",
          "2008",
          "2008",
          "2008",
          "2007",
          "2007",
          "2007",
          "2007",
          "2007",
          "2007",
          "2007",
          "2007",
          "2007",
          "2007",
          "2007",
          "2007",
          "2007",
          "2007",
          "2007",
          "2007",
          "2007",
          "2007",
          "2006",
          "2006",
          "2006",
          "2006",
          "2006",
          "2006",
          "2006",
          "2006",
          "2006",
          "2006",
          "2006",
          "2006",
          "2006",
          "2006",
          "2006",
          "2006",
          "2006",
          "2006",
          "2005",
          "2005",
          "2005",
          "2005",
          "2005",
          "2005",
          "2005",
          "2005",
          "2004",
          "2004",
          "2004",
          "2004",
          "2004",
          "2004",
          "2004",
          "2004",
          "2004",
          "2004",
          "2004",
          "2004",
          "2004",
          "2004",
          "2004",
          "2004",
          "2004",
          "2004",
          "2004",
          "2004",
          "2004",
          "2004",
          "2004",
          "2004"
         ],
         "xaxis": "x",
         "y": [
          1,
          1,
          1,
          1,
          1,
          1,
          1,
          1,
          1,
          1,
          1,
          1,
          1,
          1,
          1,
          1,
          1,
          1,
          1,
          1,
          1,
          1,
          1,
          1,
          1,
          1,
          1,
          1,
          1,
          1,
          1,
          1,
          1,
          1,
          1,
          1,
          1,
          1,
          1,
          1,
          1,
          1,
          1,
          1,
          1,
          1,
          1,
          1,
          1,
          1,
          1,
          1,
          1,
          1,
          1,
          1,
          1,
          1,
          1,
          1,
          1,
          1,
          1,
          1,
          1,
          1,
          1,
          1,
          1,
          1,
          1,
          1,
          1,
          1,
          1,
          1,
          1,
          1,
          1,
          1,
          1,
          1,
          1,
          1,
          1,
          1,
          1,
          1,
          1,
          1,
          1,
          1,
          1,
          1,
          1,
          1,
          1,
          1,
          1,
          1,
          1,
          1,
          1,
          1,
          1,
          1,
          1,
          1,
          1,
          1,
          1,
          1,
          1,
          1,
          1,
          1,
          1,
          1,
          1,
          1,
          1,
          1,
          1,
          1,
          1,
          1,
          1,
          1,
          1,
          1,
          1,
          1,
          1,
          1,
          1,
          1,
          1,
          1,
          1,
          1,
          1,
          1,
          1,
          1,
          1,
          1,
          1,
          1,
          1,
          1,
          1,
          1,
          1,
          1,
          1,
          1,
          1,
          1,
          1,
          1,
          1,
          1,
          1,
          1,
          1,
          1,
          1,
          1,
          1,
          1,
          1,
          1,
          1,
          1,
          1,
          1,
          1,
          1,
          1,
          1,
          1,
          1,
          1,
          1,
          1,
          1,
          1,
          1,
          1,
          1,
          1,
          1,
          1,
          1,
          1,
          1,
          1,
          1,
          1,
          1,
          1,
          1,
          1,
          1,
          1,
          1,
          1,
          1,
          1,
          1,
          1,
          1,
          1,
          1,
          1,
          1,
          1,
          1,
          1,
          1,
          1,
          1,
          1,
          1,
          1,
          1,
          1,
          1,
          1,
          1,
          1,
          1,
          1,
          1,
          1,
          1,
          1,
          1,
          1,
          1,
          1,
          1,
          1,
          1,
          1,
          1,
          1,
          1,
          1,
          1,
          1,
          1,
          1,
          1,
          1,
          1,
          1,
          1,
          1,
          1,
          1,
          1,
          1,
          1,
          1,
          1,
          1,
          1,
          1
         ],
         "yaxis": "y"
        }
       ],
       "layout": {
        "barmode": "group",
        "legend": {
         "tracegroupgap": 0
        },
        "template": {
         "data": {
          "bar": [
           {
            "error_x": {
             "color": "#2a3f5f"
            },
            "error_y": {
             "color": "#2a3f5f"
            },
            "marker": {
             "line": {
              "color": "#E5ECF6",
              "width": 0.5
             },
             "pattern": {
              "fillmode": "overlay",
              "size": 10,
              "solidity": 0.2
             }
            },
            "type": "bar"
           }
          ],
          "barpolar": [
           {
            "marker": {
             "line": {
              "color": "#E5ECF6",
              "width": 0.5
             },
             "pattern": {
              "fillmode": "overlay",
              "size": 10,
              "solidity": 0.2
             }
            },
            "type": "barpolar"
           }
          ],
          "carpet": [
           {
            "aaxis": {
             "endlinecolor": "#2a3f5f",
             "gridcolor": "white",
             "linecolor": "white",
             "minorgridcolor": "white",
             "startlinecolor": "#2a3f5f"
            },
            "baxis": {
             "endlinecolor": "#2a3f5f",
             "gridcolor": "white",
             "linecolor": "white",
             "minorgridcolor": "white",
             "startlinecolor": "#2a3f5f"
            },
            "type": "carpet"
           }
          ],
          "choropleth": [
           {
            "colorbar": {
             "outlinewidth": 0,
             "ticks": ""
            },
            "type": "choropleth"
           }
          ],
          "contour": [
           {
            "colorbar": {
             "outlinewidth": 0,
             "ticks": ""
            },
            "colorscale": [
             [
              0,
              "#0d0887"
             ],
             [
              0.1111111111111111,
              "#46039f"
             ],
             [
              0.2222222222222222,
              "#7201a8"
             ],
             [
              0.3333333333333333,
              "#9c179e"
             ],
             [
              0.4444444444444444,
              "#bd3786"
             ],
             [
              0.5555555555555556,
              "#d8576b"
             ],
             [
              0.6666666666666666,
              "#ed7953"
             ],
             [
              0.7777777777777778,
              "#fb9f3a"
             ],
             [
              0.8888888888888888,
              "#fdca26"
             ],
             [
              1,
              "#f0f921"
             ]
            ],
            "type": "contour"
           }
          ],
          "contourcarpet": [
           {
            "colorbar": {
             "outlinewidth": 0,
             "ticks": ""
            },
            "type": "contourcarpet"
           }
          ],
          "heatmap": [
           {
            "colorbar": {
             "outlinewidth": 0,
             "ticks": ""
            },
            "colorscale": [
             [
              0,
              "#0d0887"
             ],
             [
              0.1111111111111111,
              "#46039f"
             ],
             [
              0.2222222222222222,
              "#7201a8"
             ],
             [
              0.3333333333333333,
              "#9c179e"
             ],
             [
              0.4444444444444444,
              "#bd3786"
             ],
             [
              0.5555555555555556,
              "#d8576b"
             ],
             [
              0.6666666666666666,
              "#ed7953"
             ],
             [
              0.7777777777777778,
              "#fb9f3a"
             ],
             [
              0.8888888888888888,
              "#fdca26"
             ],
             [
              1,
              "#f0f921"
             ]
            ],
            "type": "heatmap"
           }
          ],
          "heatmapgl": [
           {
            "colorbar": {
             "outlinewidth": 0,
             "ticks": ""
            },
            "colorscale": [
             [
              0,
              "#0d0887"
             ],
             [
              0.1111111111111111,
              "#46039f"
             ],
             [
              0.2222222222222222,
              "#7201a8"
             ],
             [
              0.3333333333333333,
              "#9c179e"
             ],
             [
              0.4444444444444444,
              "#bd3786"
             ],
             [
              0.5555555555555556,
              "#d8576b"
             ],
             [
              0.6666666666666666,
              "#ed7953"
             ],
             [
              0.7777777777777778,
              "#fb9f3a"
             ],
             [
              0.8888888888888888,
              "#fdca26"
             ],
             [
              1,
              "#f0f921"
             ]
            ],
            "type": "heatmapgl"
           }
          ],
          "histogram": [
           {
            "marker": {
             "pattern": {
              "fillmode": "overlay",
              "size": 10,
              "solidity": 0.2
             }
            },
            "type": "histogram"
           }
          ],
          "histogram2d": [
           {
            "colorbar": {
             "outlinewidth": 0,
             "ticks": ""
            },
            "colorscale": [
             [
              0,
              "#0d0887"
             ],
             [
              0.1111111111111111,
              "#46039f"
             ],
             [
              0.2222222222222222,
              "#7201a8"
             ],
             [
              0.3333333333333333,
              "#9c179e"
             ],
             [
              0.4444444444444444,
              "#bd3786"
             ],
             [
              0.5555555555555556,
              "#d8576b"
             ],
             [
              0.6666666666666666,
              "#ed7953"
             ],
             [
              0.7777777777777778,
              "#fb9f3a"
             ],
             [
              0.8888888888888888,
              "#fdca26"
             ],
             [
              1,
              "#f0f921"
             ]
            ],
            "type": "histogram2d"
           }
          ],
          "histogram2dcontour": [
           {
            "colorbar": {
             "outlinewidth": 0,
             "ticks": ""
            },
            "colorscale": [
             [
              0,
              "#0d0887"
             ],
             [
              0.1111111111111111,
              "#46039f"
             ],
             [
              0.2222222222222222,
              "#7201a8"
             ],
             [
              0.3333333333333333,
              "#9c179e"
             ],
             [
              0.4444444444444444,
              "#bd3786"
             ],
             [
              0.5555555555555556,
              "#d8576b"
             ],
             [
              0.6666666666666666,
              "#ed7953"
             ],
             [
              0.7777777777777778,
              "#fb9f3a"
             ],
             [
              0.8888888888888888,
              "#fdca26"
             ],
             [
              1,
              "#f0f921"
             ]
            ],
            "type": "histogram2dcontour"
           }
          ],
          "mesh3d": [
           {
            "colorbar": {
             "outlinewidth": 0,
             "ticks": ""
            },
            "type": "mesh3d"
           }
          ],
          "parcoords": [
           {
            "line": {
             "colorbar": {
              "outlinewidth": 0,
              "ticks": ""
             }
            },
            "type": "parcoords"
           }
          ],
          "pie": [
           {
            "automargin": true,
            "type": "pie"
           }
          ],
          "scatter": [
           {
            "fillpattern": {
             "fillmode": "overlay",
             "size": 10,
             "solidity": 0.2
            },
            "type": "scatter"
           }
          ],
          "scatter3d": [
           {
            "line": {
             "colorbar": {
              "outlinewidth": 0,
              "ticks": ""
             }
            },
            "marker": {
             "colorbar": {
              "outlinewidth": 0,
              "ticks": ""
             }
            },
            "type": "scatter3d"
           }
          ],
          "scattercarpet": [
           {
            "marker": {
             "colorbar": {
              "outlinewidth": 0,
              "ticks": ""
             }
            },
            "type": "scattercarpet"
           }
          ],
          "scattergeo": [
           {
            "marker": {
             "colorbar": {
              "outlinewidth": 0,
              "ticks": ""
             }
            },
            "type": "scattergeo"
           }
          ],
          "scattergl": [
           {
            "marker": {
             "colorbar": {
              "outlinewidth": 0,
              "ticks": ""
             }
            },
            "type": "scattergl"
           }
          ],
          "scattermapbox": [
           {
            "marker": {
             "colorbar": {
              "outlinewidth": 0,
              "ticks": ""
             }
            },
            "type": "scattermapbox"
           }
          ],
          "scatterpolar": [
           {
            "marker": {
             "colorbar": {
              "outlinewidth": 0,
              "ticks": ""
             }
            },
            "type": "scatterpolar"
           }
          ],
          "scatterpolargl": [
           {
            "marker": {
             "colorbar": {
              "outlinewidth": 0,
              "ticks": ""
             }
            },
            "type": "scatterpolargl"
           }
          ],
          "scatterternary": [
           {
            "marker": {
             "colorbar": {
              "outlinewidth": 0,
              "ticks": ""
             }
            },
            "type": "scatterternary"
           }
          ],
          "surface": [
           {
            "colorbar": {
             "outlinewidth": 0,
             "ticks": ""
            },
            "colorscale": [
             [
              0,
              "#0d0887"
             ],
             [
              0.1111111111111111,
              "#46039f"
             ],
             [
              0.2222222222222222,
              "#7201a8"
             ],
             [
              0.3333333333333333,
              "#9c179e"
             ],
             [
              0.4444444444444444,
              "#bd3786"
             ],
             [
              0.5555555555555556,
              "#d8576b"
             ],
             [
              0.6666666666666666,
              "#ed7953"
             ],
             [
              0.7777777777777778,
              "#fb9f3a"
             ],
             [
              0.8888888888888888,
              "#fdca26"
             ],
             [
              1,
              "#f0f921"
             ]
            ],
            "type": "surface"
           }
          ],
          "table": [
           {
            "cells": {
             "fill": {
              "color": "#EBF0F8"
             },
             "line": {
              "color": "white"
             }
            },
            "header": {
             "fill": {
              "color": "#C8D4E3"
             },
             "line": {
              "color": "white"
             }
            },
            "type": "table"
           }
          ]
         },
         "layout": {
          "annotationdefaults": {
           "arrowcolor": "#2a3f5f",
           "arrowhead": 0,
           "arrowwidth": 1
          },
          "autotypenumbers": "strict",
          "coloraxis": {
           "colorbar": {
            "outlinewidth": 0,
            "ticks": ""
           }
          },
          "colorscale": {
           "diverging": [
            [
             0,
             "#8e0152"
            ],
            [
             0.1,
             "#c51b7d"
            ],
            [
             0.2,
             "#de77ae"
            ],
            [
             0.3,
             "#f1b6da"
            ],
            [
             0.4,
             "#fde0ef"
            ],
            [
             0.5,
             "#f7f7f7"
            ],
            [
             0.6,
             "#e6f5d0"
            ],
            [
             0.7,
             "#b8e186"
            ],
            [
             0.8,
             "#7fbc41"
            ],
            [
             0.9,
             "#4d9221"
            ],
            [
             1,
             "#276419"
            ]
           ],
           "sequential": [
            [
             0,
             "#0d0887"
            ],
            [
             0.1111111111111111,
             "#46039f"
            ],
            [
             0.2222222222222222,
             "#7201a8"
            ],
            [
             0.3333333333333333,
             "#9c179e"
            ],
            [
             0.4444444444444444,
             "#bd3786"
            ],
            [
             0.5555555555555556,
             "#d8576b"
            ],
            [
             0.6666666666666666,
             "#ed7953"
            ],
            [
             0.7777777777777778,
             "#fb9f3a"
            ],
            [
             0.8888888888888888,
             "#fdca26"
            ],
            [
             1,
             "#f0f921"
            ]
           ],
           "sequentialminus": [
            [
             0,
             "#0d0887"
            ],
            [
             0.1111111111111111,
             "#46039f"
            ],
            [
             0.2222222222222222,
             "#7201a8"
            ],
            [
             0.3333333333333333,
             "#9c179e"
            ],
            [
             0.4444444444444444,
             "#bd3786"
            ],
            [
             0.5555555555555556,
             "#d8576b"
            ],
            [
             0.6666666666666666,
             "#ed7953"
            ],
            [
             0.7777777777777778,
             "#fb9f3a"
            ],
            [
             0.8888888888888888,
             "#fdca26"
            ],
            [
             1,
             "#f0f921"
            ]
           ]
          },
          "colorway": [
           "#636efa",
           "#EF553B",
           "#00cc96",
           "#ab63fa",
           "#FFA15A",
           "#19d3f3",
           "#FF6692",
           "#B6E880",
           "#FF97FF",
           "#FECB52"
          ],
          "font": {
           "color": "#2a3f5f"
          },
          "geo": {
           "bgcolor": "white",
           "lakecolor": "white",
           "landcolor": "#E5ECF6",
           "showlakes": true,
           "showland": true,
           "subunitcolor": "white"
          },
          "hoverlabel": {
           "align": "left"
          },
          "hovermode": "closest",
          "mapbox": {
           "style": "light"
          },
          "paper_bgcolor": "white",
          "plot_bgcolor": "#E5ECF6",
          "polar": {
           "angularaxis": {
            "gridcolor": "white",
            "linecolor": "white",
            "ticks": ""
           },
           "bgcolor": "#E5ECF6",
           "radialaxis": {
            "gridcolor": "white",
            "linecolor": "white",
            "ticks": ""
           }
          },
          "scene": {
           "xaxis": {
            "backgroundcolor": "#E5ECF6",
            "gridcolor": "white",
            "gridwidth": 2,
            "linecolor": "white",
            "showbackground": true,
            "ticks": "",
            "zerolinecolor": "white"
           },
           "yaxis": {
            "backgroundcolor": "#E5ECF6",
            "gridcolor": "white",
            "gridwidth": 2,
            "linecolor": "white",
            "showbackground": true,
            "ticks": "",
            "zerolinecolor": "white"
           },
           "zaxis": {
            "backgroundcolor": "#E5ECF6",
            "gridcolor": "white",
            "gridwidth": 2,
            "linecolor": "white",
            "showbackground": true,
            "ticks": "",
            "zerolinecolor": "white"
           }
          },
          "shapedefaults": {
           "line": {
            "color": "#2a3f5f"
           }
          },
          "ternary": {
           "aaxis": {
            "gridcolor": "white",
            "linecolor": "white",
            "ticks": ""
           },
           "baxis": {
            "gridcolor": "white",
            "linecolor": "white",
            "ticks": ""
           },
           "bgcolor": "#E5ECF6",
           "caxis": {
            "gridcolor": "white",
            "linecolor": "white",
            "ticks": ""
           }
          },
          "title": {
           "x": 0.05
          },
          "xaxis": {
           "automargin": true,
           "gridcolor": "white",
           "linecolor": "white",
           "ticks": "",
           "title": {
            "standoff": 15
           },
           "zerolinecolor": "white",
           "zerolinewidth": 2
          },
          "yaxis": {
           "automargin": true,
           "gridcolor": "white",
           "linecolor": "white",
           "ticks": "",
           "title": {
            "standoff": 15
           },
           "zerolinecolor": "white",
           "zerolinewidth": 2
          }
         }
        },
        "title": {
         "text": "Demolitions per year"
        },
        "xaxis": {
         "anchor": "y",
         "domain": [
          0,
          1
         ],
         "title": {
          "text": "Year"
         }
        },
        "yaxis": {
         "anchor": "x",
         "domain": [
          0,
          1
         ],
         "title": {
          "text": "Count"
         }
        }
       }
      }
     },
     "metadata": {},
     "output_type": "display_data"
    }
   ],
   "source": [
    "fig = px.pie(df, names='Area', title='Demolitions per area')\n",
    "fig.show()\n",
    "\n",
    "fig = px.bar(df, x='Year', barmode='group', title='Demolitions per year')\n",
    "fig.update_xaxes(title='Year')\n",
    "fig.update_yaxes(title='Count')\n",
    "fig.show()\n"
   ]
  },
  {
   "cell_type": "markdown",
   "id": "quantitative-water",
   "metadata": {},
   "source": [
    "#### Write your insghts here"
   ]
  },
  {
   "cell_type": "markdown",
   "id": "german-owner",
   "metadata": {},
   "source": [
    "1. *Gaza* faced the least amount of demolition operations.\n",
    "2. More demolitions were carried out in *East Jerusalem* than any other area."
   ]
  },
  {
   "cell_type": "markdown",
   "id": "developing-bandwidth",
   "metadata": {},
   "source": [
    "#### Write your insghts here"
   ]
  },
  {
   "cell_type": "markdown",
   "id": "5e68e79d",
   "metadata": {},
   "source": [
    "1. The year 2004 has seen the highest number of demolitions.\n",
    "2. The year 2009 has seen the lowest number of demolitions."
   ]
  },
  {
   "cell_type": "markdown",
   "id": "sound-copper",
   "metadata": {},
   "source": [
    "### Bivariate Visualization \n",
    "* Plot two Charts\n",
    "* Provide each charts with at least two insights "
   ]
  },
  {
   "cell_type": "code",
   "execution_count": 159,
   "id": "surface-visiting",
   "metadata": {},
   "outputs": [
    {
     "data": {
      "application/vnd.plotly.v1+json": {
       "config": {
        "plotlyServerURL": "https://plot.ly"
       },
       "data": [
        {
         "alignmentgroup": "True",
         "hovertemplate": "Year=%{x}<br>Housing Units=%{y}<extra></extra>",
         "legendgroup": "",
         "marker": {
          "color": "#636efa",
          "pattern": {
           "shape": ""
          }
         },
         "name": "",
         "offsetgroup": "",
         "orientation": "v",
         "showlegend": false,
         "textposition": "auto",
         "type": "bar",
         "x": [
          "2021",
          "2021",
          "2021",
          "2021",
          "2021",
          "2021",
          "2021",
          "2021",
          "2021",
          "2021",
          "2021",
          "2021",
          "2021",
          "2020",
          "2020",
          "2020",
          "2020",
          "2020",
          "2020",
          "2020",
          "2020",
          "2020",
          "2020",
          "2020",
          "2020",
          "2020",
          "2020",
          "2020",
          "2020",
          "2020",
          "2019",
          "2019",
          "2019",
          "2019",
          "2019",
          "2019",
          "2019",
          "2019",
          "2019",
          "2019",
          "2019",
          "2019",
          "2019",
          "2019",
          "2019",
          "2019",
          "2019",
          "2018",
          "2018",
          "2018",
          "2018",
          "2018",
          "2018",
          "2018",
          "2018",
          "2018",
          "2018",
          "2018",
          "2018",
          "2018",
          "2018",
          "2018",
          "2018",
          "2018",
          "2017",
          "2017",
          "2017",
          "2017",
          "2017",
          "2017",
          "2017",
          "2017",
          "2017",
          "2017",
          "2017",
          "2017",
          "2017",
          "2017",
          "2017",
          "2017",
          "2017",
          "2016",
          "2016",
          "2016",
          "2016",
          "2016",
          "2016",
          "2016",
          "2016",
          "2016",
          "2016",
          "2016",
          "2016",
          "2016",
          "2016",
          "2016",
          "2016",
          "2016",
          "2016",
          "2015",
          "2015",
          "2015",
          "2015",
          "2015",
          "2015",
          "2015",
          "2015",
          "2015",
          "2015",
          "2015",
          "2015",
          "2015",
          "2015",
          "2015",
          "2015",
          "2015",
          "2014",
          "2014",
          "2014",
          "2014",
          "2014",
          "2014",
          "2014",
          "2014",
          "2014",
          "2014",
          "2014",
          "2014",
          "2014",
          "2014",
          "2014",
          "2013",
          "2013",
          "2013",
          "2013",
          "2013",
          "2013",
          "2013",
          "2013",
          "2013",
          "2013",
          "2013",
          "2013",
          "2012",
          "2012",
          "2012",
          "2012",
          "2012",
          "2012",
          "2012",
          "2012",
          "2012",
          "2012",
          "2012",
          "2012",
          "2012",
          "2011",
          "2011",
          "2011",
          "2011",
          "2011",
          "2011",
          "2011",
          "2011",
          "2011",
          "2011",
          "2011",
          "2010",
          "2010",
          "2010",
          "2010",
          "2010",
          "2010",
          "2010",
          "2010",
          "2010",
          "2010",
          "2010",
          "2010",
          "2010",
          "2010",
          "2009",
          "2009",
          "2009",
          "2009",
          "2009",
          "2009",
          "2008",
          "2008",
          "2008",
          "2008",
          "2008",
          "2008",
          "2008",
          "2008",
          "2008",
          "2008",
          "2008",
          "2008",
          "2008",
          "2008",
          "2007",
          "2007",
          "2007",
          "2007",
          "2007",
          "2007",
          "2007",
          "2007",
          "2007",
          "2007",
          "2007",
          "2007",
          "2007",
          "2007",
          "2007",
          "2007",
          "2007",
          "2007",
          "2006",
          "2006",
          "2006",
          "2006",
          "2006",
          "2006",
          "2006",
          "2006",
          "2006",
          "2006",
          "2006",
          "2006",
          "2006",
          "2006",
          "2006",
          "2006",
          "2006",
          "2006",
          "2005",
          "2005",
          "2005",
          "2005",
          "2005",
          "2005",
          "2005",
          "2005",
          "2004",
          "2004",
          "2004",
          "2004",
          "2004",
          "2004",
          "2004",
          "2004",
          "2004",
          "2004",
          "2004",
          "2004",
          "2004",
          "2004",
          "2004",
          "2004",
          "2004",
          "2004",
          "2004",
          "2004",
          "2004",
          "2004",
          "2004",
          "2004"
         ],
         "xaxis": "x",
         "y": [
          8,
          3,
          7,
          1,
          16,
          6,
          1,
          41,
          14,
          8,
          18,
          5,
          2,
          27,
          17,
          35,
          4,
          36,
          2,
          9,
          1,
          20,
          40,
          81,
          27,
          17,
          1,
          2,
          3,
          1,
          9,
          12,
          43,
          2,
          11,
          8,
          1,
          4,
          12,
          127,
          42,
          79,
          16,
          1,
          7,
          6,
          1,
          23,
          7,
          20,
          2,
          12,
          2,
          7,
          8,
          47,
          12,
          64,
          6,
          4,
          3,
          2,
          5,
          2,
          50,
          6,
          7,
          18,
          13,
          4,
          4,
          52,
          10,
          41,
          8,
          1,
          1,
          1,
          4,
          1,
          1,
          85,
          5,
          36,
          38,
          57,
          11,
          44,
          74,
          15,
          50,
          2,
          5,
          4,
          13,
          4,
          2,
          1,
          4,
          20,
          1,
          11,
          3,
          37,
          19,
          35,
          42,
          3,
          40,
          1,
          1,
          1,
          5,
          1,
          4,
          1,
          26,
          2,
          19,
          33,
          13,
          7,
          45,
          37,
          17,
          48,
          3,
          1,
          3,
          4,
          1,
          17,
          1,
          11,
          2,
          29,
          2,
          16,
          1,
          97,
          60,
          13,
          27,
          14,
          4,
          18,
          10,
          12,
          3,
          9,
          11,
          17,
          14,
          8,
          25,
          2,
          23,
          1,
          26,
          33,
          43,
          7,
          4,
          20,
          8,
          15,
          2,
          5,
          3,
          3,
          19,
          1,
          2,
          2,
          50,
          14,
          9,
          3,
          9,
          1,
          1,
          3,
          1,
          24,
          44,
          2,
          3,
          11,
          7,
          2,
          16,
          8,
          73,
          5,
          3,
          3,
          18,
          6,
          4,
          3,
          3,
          3,
          3,
          18,
          2,
          10,
          1,
          2,
          1,
          62,
          1,
          7,
          4,
          1,
          2,
          1,
          2,
          16,
          10,
          6,
          14,
          4,
          5,
          8,
          6,
          3,
          3,
          44,
          6,
          31,
          27,
          94,
          158,
          2,
          27,
          5,
          5,
          70,
          5,
          1,
          4,
          2,
          5,
          1,
          1,
          53,
          27,
          64,
          408,
          123,
          756,
          4,
          9,
          3,
          9,
          1,
          50,
          9,
          24,
          26,
          3,
          21,
          8,
          11,
          4,
          6,
          2,
          4,
          8
         ],
         "yaxis": "y"
        }
       ],
       "layout": {
        "barmode": "relative",
        "legend": {
         "tracegroupgap": 0
        },
        "template": {
         "data": {
          "bar": [
           {
            "error_x": {
             "color": "#2a3f5f"
            },
            "error_y": {
             "color": "#2a3f5f"
            },
            "marker": {
             "line": {
              "color": "#E5ECF6",
              "width": 0.5
             },
             "pattern": {
              "fillmode": "overlay",
              "size": 10,
              "solidity": 0.2
             }
            },
            "type": "bar"
           }
          ],
          "barpolar": [
           {
            "marker": {
             "line": {
              "color": "#E5ECF6",
              "width": 0.5
             },
             "pattern": {
              "fillmode": "overlay",
              "size": 10,
              "solidity": 0.2
             }
            },
            "type": "barpolar"
           }
          ],
          "carpet": [
           {
            "aaxis": {
             "endlinecolor": "#2a3f5f",
             "gridcolor": "white",
             "linecolor": "white",
             "minorgridcolor": "white",
             "startlinecolor": "#2a3f5f"
            },
            "baxis": {
             "endlinecolor": "#2a3f5f",
             "gridcolor": "white",
             "linecolor": "white",
             "minorgridcolor": "white",
             "startlinecolor": "#2a3f5f"
            },
            "type": "carpet"
           }
          ],
          "choropleth": [
           {
            "colorbar": {
             "outlinewidth": 0,
             "ticks": ""
            },
            "type": "choropleth"
           }
          ],
          "contour": [
           {
            "colorbar": {
             "outlinewidth": 0,
             "ticks": ""
            },
            "colorscale": [
             [
              0,
              "#0d0887"
             ],
             [
              0.1111111111111111,
              "#46039f"
             ],
             [
              0.2222222222222222,
              "#7201a8"
             ],
             [
              0.3333333333333333,
              "#9c179e"
             ],
             [
              0.4444444444444444,
              "#bd3786"
             ],
             [
              0.5555555555555556,
              "#d8576b"
             ],
             [
              0.6666666666666666,
              "#ed7953"
             ],
             [
              0.7777777777777778,
              "#fb9f3a"
             ],
             [
              0.8888888888888888,
              "#fdca26"
             ],
             [
              1,
              "#f0f921"
             ]
            ],
            "type": "contour"
           }
          ],
          "contourcarpet": [
           {
            "colorbar": {
             "outlinewidth": 0,
             "ticks": ""
            },
            "type": "contourcarpet"
           }
          ],
          "heatmap": [
           {
            "colorbar": {
             "outlinewidth": 0,
             "ticks": ""
            },
            "colorscale": [
             [
              0,
              "#0d0887"
             ],
             [
              0.1111111111111111,
              "#46039f"
             ],
             [
              0.2222222222222222,
              "#7201a8"
             ],
             [
              0.3333333333333333,
              "#9c179e"
             ],
             [
              0.4444444444444444,
              "#bd3786"
             ],
             [
              0.5555555555555556,
              "#d8576b"
             ],
             [
              0.6666666666666666,
              "#ed7953"
             ],
             [
              0.7777777777777778,
              "#fb9f3a"
             ],
             [
              0.8888888888888888,
              "#fdca26"
             ],
             [
              1,
              "#f0f921"
             ]
            ],
            "type": "heatmap"
           }
          ],
          "heatmapgl": [
           {
            "colorbar": {
             "outlinewidth": 0,
             "ticks": ""
            },
            "colorscale": [
             [
              0,
              "#0d0887"
             ],
             [
              0.1111111111111111,
              "#46039f"
             ],
             [
              0.2222222222222222,
              "#7201a8"
             ],
             [
              0.3333333333333333,
              "#9c179e"
             ],
             [
              0.4444444444444444,
              "#bd3786"
             ],
             [
              0.5555555555555556,
              "#d8576b"
             ],
             [
              0.6666666666666666,
              "#ed7953"
             ],
             [
              0.7777777777777778,
              "#fb9f3a"
             ],
             [
              0.8888888888888888,
              "#fdca26"
             ],
             [
              1,
              "#f0f921"
             ]
            ],
            "type": "heatmapgl"
           }
          ],
          "histogram": [
           {
            "marker": {
             "pattern": {
              "fillmode": "overlay",
              "size": 10,
              "solidity": 0.2
             }
            },
            "type": "histogram"
           }
          ],
          "histogram2d": [
           {
            "colorbar": {
             "outlinewidth": 0,
             "ticks": ""
            },
            "colorscale": [
             [
              0,
              "#0d0887"
             ],
             [
              0.1111111111111111,
              "#46039f"
             ],
             [
              0.2222222222222222,
              "#7201a8"
             ],
             [
              0.3333333333333333,
              "#9c179e"
             ],
             [
              0.4444444444444444,
              "#bd3786"
             ],
             [
              0.5555555555555556,
              "#d8576b"
             ],
             [
              0.6666666666666666,
              "#ed7953"
             ],
             [
              0.7777777777777778,
              "#fb9f3a"
             ],
             [
              0.8888888888888888,
              "#fdca26"
             ],
             [
              1,
              "#f0f921"
             ]
            ],
            "type": "histogram2d"
           }
          ],
          "histogram2dcontour": [
           {
            "colorbar": {
             "outlinewidth": 0,
             "ticks": ""
            },
            "colorscale": [
             [
              0,
              "#0d0887"
             ],
             [
              0.1111111111111111,
              "#46039f"
             ],
             [
              0.2222222222222222,
              "#7201a8"
             ],
             [
              0.3333333333333333,
              "#9c179e"
             ],
             [
              0.4444444444444444,
              "#bd3786"
             ],
             [
              0.5555555555555556,
              "#d8576b"
             ],
             [
              0.6666666666666666,
              "#ed7953"
             ],
             [
              0.7777777777777778,
              "#fb9f3a"
             ],
             [
              0.8888888888888888,
              "#fdca26"
             ],
             [
              1,
              "#f0f921"
             ]
            ],
            "type": "histogram2dcontour"
           }
          ],
          "mesh3d": [
           {
            "colorbar": {
             "outlinewidth": 0,
             "ticks": ""
            },
            "type": "mesh3d"
           }
          ],
          "parcoords": [
           {
            "line": {
             "colorbar": {
              "outlinewidth": 0,
              "ticks": ""
             }
            },
            "type": "parcoords"
           }
          ],
          "pie": [
           {
            "automargin": true,
            "type": "pie"
           }
          ],
          "scatter": [
           {
            "fillpattern": {
             "fillmode": "overlay",
             "size": 10,
             "solidity": 0.2
            },
            "type": "scatter"
           }
          ],
          "scatter3d": [
           {
            "line": {
             "colorbar": {
              "outlinewidth": 0,
              "ticks": ""
             }
            },
            "marker": {
             "colorbar": {
              "outlinewidth": 0,
              "ticks": ""
             }
            },
            "type": "scatter3d"
           }
          ],
          "scattercarpet": [
           {
            "marker": {
             "colorbar": {
              "outlinewidth": 0,
              "ticks": ""
             }
            },
            "type": "scattercarpet"
           }
          ],
          "scattergeo": [
           {
            "marker": {
             "colorbar": {
              "outlinewidth": 0,
              "ticks": ""
             }
            },
            "type": "scattergeo"
           }
          ],
          "scattergl": [
           {
            "marker": {
             "colorbar": {
              "outlinewidth": 0,
              "ticks": ""
             }
            },
            "type": "scattergl"
           }
          ],
          "scattermapbox": [
           {
            "marker": {
             "colorbar": {
              "outlinewidth": 0,
              "ticks": ""
             }
            },
            "type": "scattermapbox"
           }
          ],
          "scatterpolar": [
           {
            "marker": {
             "colorbar": {
              "outlinewidth": 0,
              "ticks": ""
             }
            },
            "type": "scatterpolar"
           }
          ],
          "scatterpolargl": [
           {
            "marker": {
             "colorbar": {
              "outlinewidth": 0,
              "ticks": ""
             }
            },
            "type": "scatterpolargl"
           }
          ],
          "scatterternary": [
           {
            "marker": {
             "colorbar": {
              "outlinewidth": 0,
              "ticks": ""
             }
            },
            "type": "scatterternary"
           }
          ],
          "surface": [
           {
            "colorbar": {
             "outlinewidth": 0,
             "ticks": ""
            },
            "colorscale": [
             [
              0,
              "#0d0887"
             ],
             [
              0.1111111111111111,
              "#46039f"
             ],
             [
              0.2222222222222222,
              "#7201a8"
             ],
             [
              0.3333333333333333,
              "#9c179e"
             ],
             [
              0.4444444444444444,
              "#bd3786"
             ],
             [
              0.5555555555555556,
              "#d8576b"
             ],
             [
              0.6666666666666666,
              "#ed7953"
             ],
             [
              0.7777777777777778,
              "#fb9f3a"
             ],
             [
              0.8888888888888888,
              "#fdca26"
             ],
             [
              1,
              "#f0f921"
             ]
            ],
            "type": "surface"
           }
          ],
          "table": [
           {
            "cells": {
             "fill": {
              "color": "#EBF0F8"
             },
             "line": {
              "color": "white"
             }
            },
            "header": {
             "fill": {
              "color": "#C8D4E3"
             },
             "line": {
              "color": "white"
             }
            },
            "type": "table"
           }
          ]
         },
         "layout": {
          "annotationdefaults": {
           "arrowcolor": "#2a3f5f",
           "arrowhead": 0,
           "arrowwidth": 1
          },
          "autotypenumbers": "strict",
          "coloraxis": {
           "colorbar": {
            "outlinewidth": 0,
            "ticks": ""
           }
          },
          "colorscale": {
           "diverging": [
            [
             0,
             "#8e0152"
            ],
            [
             0.1,
             "#c51b7d"
            ],
            [
             0.2,
             "#de77ae"
            ],
            [
             0.3,
             "#f1b6da"
            ],
            [
             0.4,
             "#fde0ef"
            ],
            [
             0.5,
             "#f7f7f7"
            ],
            [
             0.6,
             "#e6f5d0"
            ],
            [
             0.7,
             "#b8e186"
            ],
            [
             0.8,
             "#7fbc41"
            ],
            [
             0.9,
             "#4d9221"
            ],
            [
             1,
             "#276419"
            ]
           ],
           "sequential": [
            [
             0,
             "#0d0887"
            ],
            [
             0.1111111111111111,
             "#46039f"
            ],
            [
             0.2222222222222222,
             "#7201a8"
            ],
            [
             0.3333333333333333,
             "#9c179e"
            ],
            [
             0.4444444444444444,
             "#bd3786"
            ],
            [
             0.5555555555555556,
             "#d8576b"
            ],
            [
             0.6666666666666666,
             "#ed7953"
            ],
            [
             0.7777777777777778,
             "#fb9f3a"
            ],
            [
             0.8888888888888888,
             "#fdca26"
            ],
            [
             1,
             "#f0f921"
            ]
           ],
           "sequentialminus": [
            [
             0,
             "#0d0887"
            ],
            [
             0.1111111111111111,
             "#46039f"
            ],
            [
             0.2222222222222222,
             "#7201a8"
            ],
            [
             0.3333333333333333,
             "#9c179e"
            ],
            [
             0.4444444444444444,
             "#bd3786"
            ],
            [
             0.5555555555555556,
             "#d8576b"
            ],
            [
             0.6666666666666666,
             "#ed7953"
            ],
            [
             0.7777777777777778,
             "#fb9f3a"
            ],
            [
             0.8888888888888888,
             "#fdca26"
            ],
            [
             1,
             "#f0f921"
            ]
           ]
          },
          "colorway": [
           "#636efa",
           "#EF553B",
           "#00cc96",
           "#ab63fa",
           "#FFA15A",
           "#19d3f3",
           "#FF6692",
           "#B6E880",
           "#FF97FF",
           "#FECB52"
          ],
          "font": {
           "color": "#2a3f5f"
          },
          "geo": {
           "bgcolor": "white",
           "lakecolor": "white",
           "landcolor": "#E5ECF6",
           "showlakes": true,
           "showland": true,
           "subunitcolor": "white"
          },
          "hoverlabel": {
           "align": "left"
          },
          "hovermode": "closest",
          "mapbox": {
           "style": "light"
          },
          "paper_bgcolor": "white",
          "plot_bgcolor": "#E5ECF6",
          "polar": {
           "angularaxis": {
            "gridcolor": "white",
            "linecolor": "white",
            "ticks": ""
           },
           "bgcolor": "#E5ECF6",
           "radialaxis": {
            "gridcolor": "white",
            "linecolor": "white",
            "ticks": ""
           }
          },
          "scene": {
           "xaxis": {
            "backgroundcolor": "#E5ECF6",
            "gridcolor": "white",
            "gridwidth": 2,
            "linecolor": "white",
            "showbackground": true,
            "ticks": "",
            "zerolinecolor": "white"
           },
           "yaxis": {
            "backgroundcolor": "#E5ECF6",
            "gridcolor": "white",
            "gridwidth": 2,
            "linecolor": "white",
            "showbackground": true,
            "ticks": "",
            "zerolinecolor": "white"
           },
           "zaxis": {
            "backgroundcolor": "#E5ECF6",
            "gridcolor": "white",
            "gridwidth": 2,
            "linecolor": "white",
            "showbackground": true,
            "ticks": "",
            "zerolinecolor": "white"
           }
          },
          "shapedefaults": {
           "line": {
            "color": "#2a3f5f"
           }
          },
          "ternary": {
           "aaxis": {
            "gridcolor": "white",
            "linecolor": "white",
            "ticks": ""
           },
           "baxis": {
            "gridcolor": "white",
            "linecolor": "white",
            "ticks": ""
           },
           "bgcolor": "#E5ECF6",
           "caxis": {
            "gridcolor": "white",
            "linecolor": "white",
            "ticks": ""
           }
          },
          "title": {
           "x": 0.05
          },
          "xaxis": {
           "automargin": true,
           "gridcolor": "white",
           "linecolor": "white",
           "ticks": "",
           "title": {
            "standoff": 15
           },
           "zerolinecolor": "white",
           "zerolinewidth": 2
          },
          "yaxis": {
           "automargin": true,
           "gridcolor": "white",
           "linecolor": "white",
           "ticks": "",
           "title": {
            "standoff": 15
           },
           "zerolinecolor": "white",
           "zerolinewidth": 2
          }
         }
        },
        "title": {
         "text": "Houses demolished per year"
        },
        "xaxis": {
         "anchor": "y",
         "domain": [
          0,
          1
         ],
         "title": {
          "text": "Housing Units"
         }
        },
        "yaxis": {
         "anchor": "x",
         "domain": [
          0,
          1
         ],
         "title": {
          "text": "Count"
         }
        }
       }
      }
     },
     "metadata": {},
     "output_type": "display_data"
    },
    {
     "data": {
      "application/vnd.plotly.v1+json": {
       "config": {
        "plotlyServerURL": "https://plot.ly"
       },
       "data": [
        {
         "alignmentgroup": "True",
         "hovertemplate": "District=%{x}<br>People Left Homeless=%{y}<extra></extra>",
         "legendgroup": "",
         "marker": {
          "color": "#636efa",
          "pattern": {
           "shape": ""
          }
         },
         "name": "",
         "offsetgroup": "",
         "orientation": "v",
         "showlegend": false,
         "textposition": "auto",
         "type": "bar",
         "x": [
          "Al-Quds",
          "Bethlehem",
          "Hebron",
          "Jenin",
          "Jericho",
          "Nablus",
          "Qalqiliya",
          "Tubas",
          "East Jerusalem",
          "East Jerusalem",
          "East Jerusalem",
          "East Jerusalem",
          "Jenin",
          "Al-Quds",
          "Bethlehem",
          "Hebron",
          "Jenin",
          "Jericho",
          "Nablus",
          "Ramallah and al-Bira",
          "Salfit",
          "Tubas",
          "East Jerusalem",
          "East Jerusalem",
          "East Jerusalem",
          "East Jerusalem",
          "Jenin",
          "Nablus",
          "Ramallah and al-Bira",
          "Jenin",
          "Al-Quds",
          "Bethlehem",
          "Hebron",
          "Jenin",
          "Jericho",
          "Nablus",
          "Qalqiliya",
          "Ramallah and al-Bira",
          "Tubas",
          "East Jerusalem",
          "East Jerusalem",
          "East Jerusalem",
          "East Jerusalem",
          "Ramallah and al-Bira",
          "Herbron",
          "Ramallah and al-Bira",
          "Salfit",
          "Al-Quds",
          "Bethlehem",
          "Hebron",
          "Jenin",
          "Jericho",
          "Nablus",
          "Ramallah and al-Bira",
          "Tubas",
          "East Jerusalem",
          "East Jerusalem",
          "East Jerusalem",
          "East Jerusalem",
          "Jenin",
          "Jenin",
          "Jenin",
          "Ramallah and al-Bira",
          "Talkum",
          "Al-Quds",
          "Bethlehem",
          "Hebron",
          "Jericho",
          "Nablus",
          "Ramallah and al-Bira",
          "Tubas",
          "East Jerusalem",
          "East Jerusalem",
          "East Jerusalem",
          "East Jerusalem",
          "Herbon",
          "Al-Quds",
          "Jenin",
          "Ramallah and al-Bira",
          "Ramallah and al-Bira",
          "East Jerusalem",
          "Al-Quds",
          "Bethlehem",
          "Hebron",
          "Jericho",
          "Nablus",
          "Ramallah and al-Bira",
          "Tubas",
          "East Jerusalem",
          "East Jerusalem",
          "East Jerusalem",
          "East Jerusalem",
          "Herbon",
          "Al-Quds",
          "Herbron",
          "Jenin",
          "Nablus",
          "Qalqiliya",
          "East Jerusalem",
          "Al-Quds",
          "Bethlehem",
          "Hebron",
          "Jenin",
          "Jericho",
          "Ramallah and al-Bira",
          "Tubas",
          "East Jerusalem",
          "East Jerusalem",
          "East Jerusalem",
          "East Jerusalem",
          "Al-Quds",
          "Herbron",
          "Nablus",
          "Ramallah and al-Bira",
          "East Jerusalem",
          "East Jerusalem",
          "Al-Quds",
          "Bethlehem",
          "Hebron",
          "Jericho",
          "Nablus",
          "Ramallah and al-Bira",
          "Tubas",
          "East Jerusalem",
          "East Jerusalem",
          "East Jerusalem",
          "East Jerusalem",
          "Ramallah and al-Bira",
          "Nablus",
          "Herbron",
          "East Jerusalem",
          "Al-Quds",
          "Bethlehem",
          "Hebron",
          "Jenin",
          "Jericho",
          "Nablus",
          "Ramallah and al-Bira",
          "Salfit",
          "Tubas",
          "East Jerusalem",
          "East Jerusalem",
          "East Jerusalem",
          "Al-Quds",
          "Bethlehem",
          "Hebron",
          "Jericho",
          "Nablus",
          "Qalqiliya",
          "Ramallah and al-Bira",
          "Salfit",
          "Tubas",
          "East Jerusalem",
          "East Jerusalem",
          "East Jerusalem",
          "East Jerusalem",
          "Al-Quds",
          "Bethlehem",
          "Hebron",
          "Jericho",
          "Nablus",
          "Qalqiliya",
          "Ramallah and al-Bira",
          "Tubas",
          "East Jerusalem",
          "East Jerusalem",
          "Deir al-Balah",
          "Bethlehem",
          "Hebron",
          "Jericho",
          "Nablus",
          "Qalqiliya",
          "Ramallah and al-Bira",
          "Salfit",
          "Tubas",
          "East Jerusalem",
          "East Jerusalem",
          "Deir al-Balah",
          "Khan Yunis",
          "Khan Yunis",
          "Herbon",
          "Al-Quds",
          "Ramallah and al-Bira",
          "Tubas",
          "East Jerusalem",
          "East Jerusalem",
          "East Jerusalem",
          "Al-Quds",
          "Hebron",
          "Qalqiliya",
          "Ramallah and al-Bira",
          "Tubas",
          "East Jerusalem",
          "East Jerusalem",
          "Deir al-Balah",
          "Gaza",
          "Khan Yunis",
          "North Gaza",
          "Bethlehem",
          "Qalqiliya",
          "Tulkarm",
          "Al-Quds",
          "Bethlehem",
          "Hebron",
          "Jenin",
          "Jericho",
          "Qalqiliya",
          "Ramallah and al-Bira",
          "Salfit",
          "East Jerusalem",
          "East Jerusalem",
          "Deir al-Balah",
          "Gaza",
          "Khan Yunis",
          "North Gaza",
          "Rafah",
          "Bethlehem",
          "Nablus",
          "Qalqiliya",
          "Al-Quds",
          "Bethlehem",
          "Hebron",
          "Jenin",
          "Qalqiliya",
          "Ramallah and al-Bira",
          "Salfit",
          "Tubas",
          "East Jerusalem",
          "Deir al-Balah",
          "Gaza",
          "Khan Yunis",
          "North Gaza",
          "Rafah",
          "Jenin",
          "Nablus",
          "Qalqiliya",
          "Tulkarm",
          "East Jerusalem",
          "Khan Yunis",
          "Jenin",
          "Nablus",
          "Ramallah and al-Bira",
          "Tulkarm",
          "Jenin",
          "Nablus",
          "East Jerusalem",
          "Deir al-Balah",
          "Gaza",
          "Khan Yunis",
          "North Gaza",
          "Rafah",
          "Bethlehem",
          "Herbon",
          "Jenin",
          "Jericho",
          "Nablus",
          "Bethlehem",
          "Herbon",
          "Jenin",
          "Nablus",
          "Qalqiliya",
          "Ramallah and al-Bira",
          "Salfit",
          "Talkum",
          "Deir al-Balah",
          "Gaza",
          "Khan Yunis",
          "North Gaza",
          "Rafah"
         ],
         "xaxis": "x",
         "y": [
          31,
          5,
          18,
          0,
          78,
          20,
          0,
          80,
          29,
          27,
          0,
          0,
          6,
          71,
          104,
          182,
          0,
          117,
          6,
          33,
          0,
          97,
          89,
          290,
          0,
          0,
          7,
          7,
          8,
          0,
          35,
          49,
          157,
          0,
          33,
          19,
          0,
          26,
          30,
          189,
          139,
          0,
          0,
          0,
          27,
          3,
          6,
          78,
          36,
          63,
          4,
          35,
          8,
          0,
          18,
          100,
          55,
          0,
          0,
          16,
          0,
          12,
          15,
          3,
          179,
          7,
          37,
          33,
          69,
          21,
          20,
          122,
          40,
          0,
          0,
          0,
          10,
          5,
          18,
          0,
          3,
          331,
          7,
          166,
          231,
          200,
          58,
          181,
          213,
          89,
          0,
          0,
          6,
          23,
          55,
          30,
          10,
          5,
          15,
          102,
          0,
          47,
          21,
          122,
          116,
          98,
          81,
          23,
          0,
          0,
          3,
          3,
          25,
          5,
          18,
          0,
          175,
          20,
          133,
          143,
          46,
          33,
          179,
          93,
          74,
          0,
          0,
          0,
          0,
          23,
          6,
          74,
          0,
          39,
          2,
          165,
          8,
          63,
          0,
          181,
          224,
          82,
          0,
          83,
          21,
          121,
          23,
          31,
          19,
          50,
          59,
          119,
          61,
          46,
          0,
          0,
          128,
          10,
          211,
          183,
          148,
          45,
          16,
          112,
          48,
          66,
          12,
          34,
          27,
          37,
          133,
          5,
          2,
          7,
          142,
          100,
          81,
          13,
          25,
          0,
          6,
          27,
          9,
          182,
          245,
          11,
          28,
          64,
          66,
          9,
          103,
          34,
          300,
          40,
          15,
          12,
          56,
          25,
          21,
          14,
          13,
          22,
          7,
          134,
          11,
          82,
          0,
          11,
          0,
          219,
          0,
          16,
          16,
          8,
          12,
          3,
          8,
          62,
          57,
          12,
          102,
          31,
          35,
          5,
          0,
          7,
          33,
          98,
          25,
          157,
          120,
          585,
          1118,
          0,
          116,
          15,
          14,
          140,
          28,
          4,
          12,
          7,
          23,
          0,
          0,
          194,
          138,
          123,
          3023,
          975,
          6325,
          15,
          44,
          19,
          36,
          6,
          214,
          57,
          105,
          150,
          27,
          96,
          27,
          61,
          24,
          50,
          10,
          20,
          66
         ],
         "yaxis": "y"
        }
       ],
       "layout": {
        "barmode": "relative",
        "legend": {
         "tracegroupgap": 0
        },
        "template": {
         "data": {
          "bar": [
           {
            "error_x": {
             "color": "#2a3f5f"
            },
            "error_y": {
             "color": "#2a3f5f"
            },
            "marker": {
             "line": {
              "color": "#E5ECF6",
              "width": 0.5
             },
             "pattern": {
              "fillmode": "overlay",
              "size": 10,
              "solidity": 0.2
             }
            },
            "type": "bar"
           }
          ],
          "barpolar": [
           {
            "marker": {
             "line": {
              "color": "#E5ECF6",
              "width": 0.5
             },
             "pattern": {
              "fillmode": "overlay",
              "size": 10,
              "solidity": 0.2
             }
            },
            "type": "barpolar"
           }
          ],
          "carpet": [
           {
            "aaxis": {
             "endlinecolor": "#2a3f5f",
             "gridcolor": "white",
             "linecolor": "white",
             "minorgridcolor": "white",
             "startlinecolor": "#2a3f5f"
            },
            "baxis": {
             "endlinecolor": "#2a3f5f",
             "gridcolor": "white",
             "linecolor": "white",
             "minorgridcolor": "white",
             "startlinecolor": "#2a3f5f"
            },
            "type": "carpet"
           }
          ],
          "choropleth": [
           {
            "colorbar": {
             "outlinewidth": 0,
             "ticks": ""
            },
            "type": "choropleth"
           }
          ],
          "contour": [
           {
            "colorbar": {
             "outlinewidth": 0,
             "ticks": ""
            },
            "colorscale": [
             [
              0,
              "#0d0887"
             ],
             [
              0.1111111111111111,
              "#46039f"
             ],
             [
              0.2222222222222222,
              "#7201a8"
             ],
             [
              0.3333333333333333,
              "#9c179e"
             ],
             [
              0.4444444444444444,
              "#bd3786"
             ],
             [
              0.5555555555555556,
              "#d8576b"
             ],
             [
              0.6666666666666666,
              "#ed7953"
             ],
             [
              0.7777777777777778,
              "#fb9f3a"
             ],
             [
              0.8888888888888888,
              "#fdca26"
             ],
             [
              1,
              "#f0f921"
             ]
            ],
            "type": "contour"
           }
          ],
          "contourcarpet": [
           {
            "colorbar": {
             "outlinewidth": 0,
             "ticks": ""
            },
            "type": "contourcarpet"
           }
          ],
          "heatmap": [
           {
            "colorbar": {
             "outlinewidth": 0,
             "ticks": ""
            },
            "colorscale": [
             [
              0,
              "#0d0887"
             ],
             [
              0.1111111111111111,
              "#46039f"
             ],
             [
              0.2222222222222222,
              "#7201a8"
             ],
             [
              0.3333333333333333,
              "#9c179e"
             ],
             [
              0.4444444444444444,
              "#bd3786"
             ],
             [
              0.5555555555555556,
              "#d8576b"
             ],
             [
              0.6666666666666666,
              "#ed7953"
             ],
             [
              0.7777777777777778,
              "#fb9f3a"
             ],
             [
              0.8888888888888888,
              "#fdca26"
             ],
             [
              1,
              "#f0f921"
             ]
            ],
            "type": "heatmap"
           }
          ],
          "heatmapgl": [
           {
            "colorbar": {
             "outlinewidth": 0,
             "ticks": ""
            },
            "colorscale": [
             [
              0,
              "#0d0887"
             ],
             [
              0.1111111111111111,
              "#46039f"
             ],
             [
              0.2222222222222222,
              "#7201a8"
             ],
             [
              0.3333333333333333,
              "#9c179e"
             ],
             [
              0.4444444444444444,
              "#bd3786"
             ],
             [
              0.5555555555555556,
              "#d8576b"
             ],
             [
              0.6666666666666666,
              "#ed7953"
             ],
             [
              0.7777777777777778,
              "#fb9f3a"
             ],
             [
              0.8888888888888888,
              "#fdca26"
             ],
             [
              1,
              "#f0f921"
             ]
            ],
            "type": "heatmapgl"
           }
          ],
          "histogram": [
           {
            "marker": {
             "pattern": {
              "fillmode": "overlay",
              "size": 10,
              "solidity": 0.2
             }
            },
            "type": "histogram"
           }
          ],
          "histogram2d": [
           {
            "colorbar": {
             "outlinewidth": 0,
             "ticks": ""
            },
            "colorscale": [
             [
              0,
              "#0d0887"
             ],
             [
              0.1111111111111111,
              "#46039f"
             ],
             [
              0.2222222222222222,
              "#7201a8"
             ],
             [
              0.3333333333333333,
              "#9c179e"
             ],
             [
              0.4444444444444444,
              "#bd3786"
             ],
             [
              0.5555555555555556,
              "#d8576b"
             ],
             [
              0.6666666666666666,
              "#ed7953"
             ],
             [
              0.7777777777777778,
              "#fb9f3a"
             ],
             [
              0.8888888888888888,
              "#fdca26"
             ],
             [
              1,
              "#f0f921"
             ]
            ],
            "type": "histogram2d"
           }
          ],
          "histogram2dcontour": [
           {
            "colorbar": {
             "outlinewidth": 0,
             "ticks": ""
            },
            "colorscale": [
             [
              0,
              "#0d0887"
             ],
             [
              0.1111111111111111,
              "#46039f"
             ],
             [
              0.2222222222222222,
              "#7201a8"
             ],
             [
              0.3333333333333333,
              "#9c179e"
             ],
             [
              0.4444444444444444,
              "#bd3786"
             ],
             [
              0.5555555555555556,
              "#d8576b"
             ],
             [
              0.6666666666666666,
              "#ed7953"
             ],
             [
              0.7777777777777778,
              "#fb9f3a"
             ],
             [
              0.8888888888888888,
              "#fdca26"
             ],
             [
              1,
              "#f0f921"
             ]
            ],
            "type": "histogram2dcontour"
           }
          ],
          "mesh3d": [
           {
            "colorbar": {
             "outlinewidth": 0,
             "ticks": ""
            },
            "type": "mesh3d"
           }
          ],
          "parcoords": [
           {
            "line": {
             "colorbar": {
              "outlinewidth": 0,
              "ticks": ""
             }
            },
            "type": "parcoords"
           }
          ],
          "pie": [
           {
            "automargin": true,
            "type": "pie"
           }
          ],
          "scatter": [
           {
            "fillpattern": {
             "fillmode": "overlay",
             "size": 10,
             "solidity": 0.2
            },
            "type": "scatter"
           }
          ],
          "scatter3d": [
           {
            "line": {
             "colorbar": {
              "outlinewidth": 0,
              "ticks": ""
             }
            },
            "marker": {
             "colorbar": {
              "outlinewidth": 0,
              "ticks": ""
             }
            },
            "type": "scatter3d"
           }
          ],
          "scattercarpet": [
           {
            "marker": {
             "colorbar": {
              "outlinewidth": 0,
              "ticks": ""
             }
            },
            "type": "scattercarpet"
           }
          ],
          "scattergeo": [
           {
            "marker": {
             "colorbar": {
              "outlinewidth": 0,
              "ticks": ""
             }
            },
            "type": "scattergeo"
           }
          ],
          "scattergl": [
           {
            "marker": {
             "colorbar": {
              "outlinewidth": 0,
              "ticks": ""
             }
            },
            "type": "scattergl"
           }
          ],
          "scattermapbox": [
           {
            "marker": {
             "colorbar": {
              "outlinewidth": 0,
              "ticks": ""
             }
            },
            "type": "scattermapbox"
           }
          ],
          "scatterpolar": [
           {
            "marker": {
             "colorbar": {
              "outlinewidth": 0,
              "ticks": ""
             }
            },
            "type": "scatterpolar"
           }
          ],
          "scatterpolargl": [
           {
            "marker": {
             "colorbar": {
              "outlinewidth": 0,
              "ticks": ""
             }
            },
            "type": "scatterpolargl"
           }
          ],
          "scatterternary": [
           {
            "marker": {
             "colorbar": {
              "outlinewidth": 0,
              "ticks": ""
             }
            },
            "type": "scatterternary"
           }
          ],
          "surface": [
           {
            "colorbar": {
             "outlinewidth": 0,
             "ticks": ""
            },
            "colorscale": [
             [
              0,
              "#0d0887"
             ],
             [
              0.1111111111111111,
              "#46039f"
             ],
             [
              0.2222222222222222,
              "#7201a8"
             ],
             [
              0.3333333333333333,
              "#9c179e"
             ],
             [
              0.4444444444444444,
              "#bd3786"
             ],
             [
              0.5555555555555556,
              "#d8576b"
             ],
             [
              0.6666666666666666,
              "#ed7953"
             ],
             [
              0.7777777777777778,
              "#fb9f3a"
             ],
             [
              0.8888888888888888,
              "#fdca26"
             ],
             [
              1,
              "#f0f921"
             ]
            ],
            "type": "surface"
           }
          ],
          "table": [
           {
            "cells": {
             "fill": {
              "color": "#EBF0F8"
             },
             "line": {
              "color": "white"
             }
            },
            "header": {
             "fill": {
              "color": "#C8D4E3"
             },
             "line": {
              "color": "white"
             }
            },
            "type": "table"
           }
          ]
         },
         "layout": {
          "annotationdefaults": {
           "arrowcolor": "#2a3f5f",
           "arrowhead": 0,
           "arrowwidth": 1
          },
          "autotypenumbers": "strict",
          "coloraxis": {
           "colorbar": {
            "outlinewidth": 0,
            "ticks": ""
           }
          },
          "colorscale": {
           "diverging": [
            [
             0,
             "#8e0152"
            ],
            [
             0.1,
             "#c51b7d"
            ],
            [
             0.2,
             "#de77ae"
            ],
            [
             0.3,
             "#f1b6da"
            ],
            [
             0.4,
             "#fde0ef"
            ],
            [
             0.5,
             "#f7f7f7"
            ],
            [
             0.6,
             "#e6f5d0"
            ],
            [
             0.7,
             "#b8e186"
            ],
            [
             0.8,
             "#7fbc41"
            ],
            [
             0.9,
             "#4d9221"
            ],
            [
             1,
             "#276419"
            ]
           ],
           "sequential": [
            [
             0,
             "#0d0887"
            ],
            [
             0.1111111111111111,
             "#46039f"
            ],
            [
             0.2222222222222222,
             "#7201a8"
            ],
            [
             0.3333333333333333,
             "#9c179e"
            ],
            [
             0.4444444444444444,
             "#bd3786"
            ],
            [
             0.5555555555555556,
             "#d8576b"
            ],
            [
             0.6666666666666666,
             "#ed7953"
            ],
            [
             0.7777777777777778,
             "#fb9f3a"
            ],
            [
             0.8888888888888888,
             "#fdca26"
            ],
            [
             1,
             "#f0f921"
            ]
           ],
           "sequentialminus": [
            [
             0,
             "#0d0887"
            ],
            [
             0.1111111111111111,
             "#46039f"
            ],
            [
             0.2222222222222222,
             "#7201a8"
            ],
            [
             0.3333333333333333,
             "#9c179e"
            ],
            [
             0.4444444444444444,
             "#bd3786"
            ],
            [
             0.5555555555555556,
             "#d8576b"
            ],
            [
             0.6666666666666666,
             "#ed7953"
            ],
            [
             0.7777777777777778,
             "#fb9f3a"
            ],
            [
             0.8888888888888888,
             "#fdca26"
            ],
            [
             1,
             "#f0f921"
            ]
           ]
          },
          "colorway": [
           "#636efa",
           "#EF553B",
           "#00cc96",
           "#ab63fa",
           "#FFA15A",
           "#19d3f3",
           "#FF6692",
           "#B6E880",
           "#FF97FF",
           "#FECB52"
          ],
          "font": {
           "color": "#2a3f5f"
          },
          "geo": {
           "bgcolor": "white",
           "lakecolor": "white",
           "landcolor": "#E5ECF6",
           "showlakes": true,
           "showland": true,
           "subunitcolor": "white"
          },
          "hoverlabel": {
           "align": "left"
          },
          "hovermode": "closest",
          "mapbox": {
           "style": "light"
          },
          "paper_bgcolor": "white",
          "plot_bgcolor": "#E5ECF6",
          "polar": {
           "angularaxis": {
            "gridcolor": "white",
            "linecolor": "white",
            "ticks": ""
           },
           "bgcolor": "#E5ECF6",
           "radialaxis": {
            "gridcolor": "white",
            "linecolor": "white",
            "ticks": ""
           }
          },
          "scene": {
           "xaxis": {
            "backgroundcolor": "#E5ECF6",
            "gridcolor": "white",
            "gridwidth": 2,
            "linecolor": "white",
            "showbackground": true,
            "ticks": "",
            "zerolinecolor": "white"
           },
           "yaxis": {
            "backgroundcolor": "#E5ECF6",
            "gridcolor": "white",
            "gridwidth": 2,
            "linecolor": "white",
            "showbackground": true,
            "ticks": "",
            "zerolinecolor": "white"
           },
           "zaxis": {
            "backgroundcolor": "#E5ECF6",
            "gridcolor": "white",
            "gridwidth": 2,
            "linecolor": "white",
            "showbackground": true,
            "ticks": "",
            "zerolinecolor": "white"
           }
          },
          "shapedefaults": {
           "line": {
            "color": "#2a3f5f"
           }
          },
          "ternary": {
           "aaxis": {
            "gridcolor": "white",
            "linecolor": "white",
            "ticks": ""
           },
           "baxis": {
            "gridcolor": "white",
            "linecolor": "white",
            "ticks": ""
           },
           "bgcolor": "#E5ECF6",
           "caxis": {
            "gridcolor": "white",
            "linecolor": "white",
            "ticks": ""
           }
          },
          "title": {
           "x": 0.05
          },
          "xaxis": {
           "automargin": true,
           "gridcolor": "white",
           "linecolor": "white",
           "ticks": "",
           "title": {
            "standoff": 15
           },
           "zerolinecolor": "white",
           "zerolinewidth": 2
          },
          "yaxis": {
           "automargin": true,
           "gridcolor": "white",
           "linecolor": "white",
           "ticks": "",
           "title": {
            "standoff": 15
           },
           "zerolinecolor": "white",
           "zerolinewidth": 2
          }
         }
        },
        "title": {
         "text": "Number of people left homeless per district"
        },
        "xaxis": {
         "anchor": "y",
         "domain": [
          0,
          1
         ],
         "title": {
          "text": "District"
         }
        },
        "yaxis": {
         "anchor": "x",
         "domain": [
          0,
          1
         ],
         "title": {
          "text": "People Left Homeless"
         }
        }
       }
      }
     },
     "metadata": {},
     "output_type": "display_data"
    }
   ],
   "source": [
    "fig = px.bar(df, x='Year', y='Housing Units', title='Houses demolished per year')\n",
    "fig.update_xaxes(title='Housing Units')\n",
    "fig.update_yaxes(title='Count')\n",
    "fig.show()\n",
    "\n",
    "fig = px.bar(df, x='District', y='People Left Homeless', title='Number of people left homeless per district')\n",
    "fig.update_xaxes(title='District')\n",
    "fig.update_yaxes(title='People Left Homeless')\n",
    "fig.show()"
   ]
  },
  {
   "cell_type": "markdown",
   "id": "rotary-following",
   "metadata": {},
   "source": [
    "#### Write your insghts here"
   ]
  },
  {
   "cell_type": "markdown",
   "id": "outer-grave",
   "metadata": {},
   "source": [
    "1. More than 1500 housing units were demolished in 2004 alone. \n",
    "2. The biggest demolition operation was in 2004 with 756 houses destroyed."
   ]
  },
  {
   "cell_type": "markdown",
   "id": "future-driving",
   "metadata": {},
   "source": [
    "#### Write your insghts here"
   ]
  },
  {
   "cell_type": "markdown",
   "id": "sapphire-catalog",
   "metadata": {},
   "source": [
    "1. More people were left homeless in Rafah than any other district.\n",
    "2. 6325 people were left homeless in the biggest demolition operation."
   ]
  },
  {
   "cell_type": "markdown",
   "id": "mysterious-development",
   "metadata": {},
   "source": [
    "### Multivariate Visualization \n",
    "* Plot two Charts\n",
    "* Provide each charts with at least two insights "
   ]
  },
  {
   "cell_type": "code",
   "execution_count": 173,
   "id": "dedicated-surprise",
   "metadata": {},
   "outputs": [
    {
     "data": {
      "text/plain": [
       "<Axes: xlabel='Year', ylabel='Housing Units'>"
      ]
     },
     "execution_count": 173,
     "metadata": {},
     "output_type": "execute_result"
    },
    {
     "data": {
      "image/png": "[encoded data removed]",
      "text/plain": [
       "<Figure size 1000x1000 with 1 Axes>"
      ]
     },
     "metadata": {},
     "output_type": "display_data"
    }
   ],
   "source": [
    "df = df.sort_values(by='Year')\n",
    "plt.figure(figsize=(10,10))\n",
    "sns.lineplot(data=df,x='Year', y='Housing Units',hue='Type of Structure')"
   ]
  },
  {
   "cell_type": "markdown",
   "id": "complete-vegetarian",
   "metadata": {},
   "source": [
    "#### Write your insghts here"
   ]
  },
  {
   "cell_type": "markdown",
   "id": "resistant-things",
   "metadata": {},
   "source": [
    "1. \n",
    "2. "
   ]
  },
  {
   "cell_type": "markdown",
   "id": "arranged-sheet",
   "metadata": {},
   "source": [
    "#### Write your insghts here"
   ]
  },
  {
   "cell_type": "markdown",
   "id": "8650732a",
   "metadata": {},
   "source": [
    "1. \n",
    "2. "
   ]
  }
 ],
 "metadata": {
  "kernelspec": {
   "display_name": "Python 3 (ipykernel)",
   "language": "python",
   "name": "python3"
  },
  "language_info": {
   "codemirror_mode": {
    "name": "ipython",
    "version": 3
   },
   "file_extension": ".py",
   "mimetype": "text/x-python",
   "name": "python",
   "nbconvert_exporter": "python",
   "pygments_lexer": "ipython3",
   "version": "3.11.6"
  }
 },
 "nbformat": 4,
 "nbformat_minor": 5
}
